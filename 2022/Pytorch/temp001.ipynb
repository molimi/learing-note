{
 "cells": [
  {
   "cell_type": "code",
   "execution_count": 1,
   "metadata": {},
   "outputs": [],
   "source": [
    "import torch\n",
    "import torch.nn.functional as F\n",
    "from torch import nn"
   ]
  },
  {
   "cell_type": "code",
   "execution_count": 6,
   "metadata": {},
   "outputs": [],
   "source": [
    "from turtle import forward\n",
    "\n",
    "\n",
    "class MLP(nn.Module):\n",
    "    def __init__(self):\n",
    "        super().__init__()\n",
    "        self.hidden = nn.Linear(784, 256)\n",
    "        self.output = nn.Linear(256, 10)\n",
    "\n",
    "    def forward(self, x):\n",
    "        out = F.relu(self.hidden(x))\n",
    "        out = self.output(out)\n",
    "        return out"
   ]
  },
  {
   "cell_type": "code",
   "execution_count": 11,
   "metadata": {},
   "outputs": [
    {
     "name": "stdout",
     "output_type": "stream",
     "text": [
      "MLP(\n",
      "  (hidden): Linear(in_features=784, out_features=256, bias=True)\n",
      "  (output): Linear(in_features=256, out_features=10, bias=True)\n",
      ")\n",
      "torch.Size([256, 784])\n",
      "torch.Size([256])\n"
     ]
    }
   ],
   "source": [
    "X = torch.rand(2, 784)\n",
    "net = MLP()\n",
    "print(net)\n",
    "# print(net(X))\n",
    "print(net.hidden.weight.data.shape)\n",
    "print(net.hidden.bias.data.shape)"
   ]
  },
  {
   "cell_type": "code",
   "execution_count": 43,
   "metadata": {},
   "outputs": [
    {
     "name": "stdout",
     "output_type": "stream",
     "text": [
      "tensor([[0.4048, 0.7975, 0.2387, 0.1865]])\n",
      "tensor(1.6275)\n",
      "tensor(0.9443)\n",
      "tensor(1.6275)\n",
      "tensor(0.8917)\n",
      "tensor(1.6275)\n"
     ]
    }
   ],
   "source": [
    "tensor01 = torch.rand(1, 4)\n",
    "print(tensor01)\n",
    "norm1 = torch.norm(tensor01, p=1)\n",
    "print(norm1)\n",
    "norm2 = torch.norm(tensor01, p=2)\n",
    "print(norm2)\n",
    "norm3 = torch.norm(tensor01, p=1, dim=0).sum()\n",
    "print(norm3)\n",
    "norm4 = torch.sum(torch.pow(tensor01, 2))\n",
    "print(norm4)\n",
    "norm5 = torch.norm(tensor01, p=2, dim=0).sum()\n",
    "print(norm5)"
   ]
  },
  {
   "cell_type": "code",
   "execution_count": 39,
   "metadata": {},
   "outputs": [
    {
     "name": "stdout",
     "output_type": "stream",
     "text": [
      "tensor([0, 1, 0, 1, 0])\n",
      "tensor([inf, 2., inf, 2., inf])\n"
     ]
    }
   ],
   "source": [
    "current = torch.tensor([1, 1, 1, 1, 1])\n",
    "ans = torch.full(current.shape, float(\"inf\"))\n",
    "selected = torch.tensor([1, 0, 1, 0, 1])\n",
    "diff = current & ~selected\n",
    "print(diff)\n",
    "alpha = torch.tensor([0.1, 0.2, 0.3, 0.4, 0.5])\n",
    "ans[diff.nonzero().flatten()] = 2\n",
    "print(ans)"
   ]
  },
  {
   "cell_type": "code",
   "execution_count": 45,
   "metadata": {},
   "outputs": [
    {
     "name": "stdout",
     "output_type": "stream",
     "text": [
      "tensor(7.7460)\n",
      "tensor(7.7460)\n"
     ]
    }
   ],
   "source": [
    "import torch\n",
    "tensor01 = torch.arange(9, dtype=torch.float) - 4\n",
    "tensor02 = tensor01.reshape((3, 3))\n",
    "print(torch.norm(tensor01))     # tensor(7.7460)\n",
    "print(torch.norm(tensor02))     # tensor(7.7460)"
   ]
  },
  {
   "cell_type": "code",
   "execution_count": 46,
   "metadata": {},
   "outputs": [
    {
     "name": "stdout",
     "output_type": "stream",
     "text": [
      "tensor(4.)\n",
      "tensor(4.)\n"
     ]
    }
   ],
   "source": [
    "print(torch.norm(tensor01, float('inf')))       # tensor(4.)\n",
    "print(torch.norm(tensor02, float('inf')))       # tensor(4.)"
   ]
  },
  {
   "cell_type": "code",
   "execution_count": 49,
   "metadata": {},
   "outputs": [
    {
     "name": "stdout",
     "output_type": "stream",
     "text": [
      "tensor(20.)\n",
      "tensor(20.)\n"
     ]
    }
   ],
   "source": [
    "print(torch.norm(tensor01, p=1))       # tensor(20.)\n",
    "print(torch.norm(tensor02, p=1))       # tensor(20.)"
   ]
  },
  {
   "cell_type": "code",
   "execution_count": 50,
   "metadata": {},
   "outputs": [
    {
     "name": "stdout",
     "output_type": "stream",
     "text": [
      "tensor(8.)\n",
      "tensor(8.)\n"
     ]
    }
   ],
   "source": [
    "print(torch.norm(tensor01, p=0))       # tensor(8.)\n",
    "print(torch.norm(tensor02, p=0))       # tensor(8.)"
   ]
  },
  {
   "cell_type": "code",
   "execution_count": 51,
   "metadata": {},
   "outputs": [
    {
     "name": "stdout",
     "output_type": "stream",
     "text": [
      "tensor([1.4142, 2.2361, 5.0000])\n",
      "tensor([3.7417, 4.2426])\n",
      "tensor([6., 6.])\n"
     ]
    }
   ],
   "source": [
    "tensor03 = torch.tensor([[1, 2, 3], [-1, 1, 4]], dtype=torch.float)\n",
    "print(torch.norm(tensor03, dim=0))          # tensor([1.4142, 2.2361, 5.0000])\n",
    "print(torch.norm(tensor03, dim=1))          # tensor([3.7417, 4.2426])\n",
    "print(torch.norm(tensor03, p=1, dim=1))     # tensor([6., 6.])"
   ]
  },
  {
   "cell_type": "code",
   "execution_count": 56,
   "metadata": {},
   "outputs": [
    {
     "name": "stdout",
     "output_type": "stream",
     "text": [
      "tensor([[[0., 1.],\n",
      "         [2., 3.]],\n",
      "\n",
      "        [[4., 5.],\n",
      "         [6., 7.]]])\n",
      "tensor([ 3.7417, 11.2250])\n",
      "tensor(3.7417) tensor(11.2250)\n"
     ]
    }
   ],
   "source": [
    "tensor04 = torch.arange(8, dtype=torch.float).reshape(2, 2, 2)\n",
    "print(torch.norm(tensor04, dim=(1, 2)))             # tensor([ 3.7417, 11.2250])\n",
    "print(torch.norm(tensor04[0, :, :]), torch.norm(tensor04[1, :, :]))     # tensor(3.7417) tensor(11.2250)"
   ]
  },
  {
   "cell_type": "code",
   "execution_count": 57,
   "metadata": {},
   "outputs": [
    {
     "name": "stdout",
     "output_type": "stream",
     "text": [
      "torch.Size([2, 3, 4])\n",
      "torch.Size([2, 1, 4])\n",
      "torch.Size([2, 4])\n"
     ]
    }
   ],
   "source": [
    "tensor05 = torch.rand((2, 3, 4))\n",
    "norm1 = torch.norm(tensor05, dim=1, keepdim=True)\n",
    "norm2 = torch.norm(tensor05, dim=1, keepdim=False)\n",
    "print(tensor05.shape)           # torch.Size([2, 3, 4])\n",
    "print(norm1.shape)              # torch.Size([2, 1, 4])\n",
    "print(norm2.shape)              # torch.Size([2, 4])"
   ]
  },
  {
   "cell_type": "code",
   "execution_count": 63,
   "metadata": {},
   "outputs": [
    {
     "name": "stdout",
     "output_type": "stream",
     "text": [
      "tensor([[2],\n",
      "        [3]])\n"
     ]
    }
   ],
   "source": [
    "a = torch.tensor([[1, 2],\n",
    "\t [3, 4]])\n",
    "\t \n",
    "index = torch.tensor([[1],[0]])\n",
    "\n",
    "c = torch.gather(a, dim=1, index=index)\n",
    "print(c)"
   ]
  },
  {
   "cell_type": "code",
   "execution_count": 60,
   "metadata": {},
   "outputs": [
    {
     "name": "stdout",
     "output_type": "stream",
     "text": [
      "tensor([[1, 1],\n",
      "        [4, 3]])\n"
     ]
    }
   ],
   "source": [
    "t = torch.tensor([[1, 2], [3, 4]])\n",
    "index = torch.tensor([[0, 0], [1, 0]])\n",
    "print(torch.gather(t, dim=1, index=index))"
   ]
  },
  {
   "cell_type": "code",
   "execution_count": 65,
   "metadata": {},
   "outputs": [
    {
     "name": "stdout",
     "output_type": "stream",
     "text": [
      "tensor([[ 2,  3],\n",
      "        [16, 17],\n",
      "        [20, 21],\n",
      "        [34, 35]])\n"
     ]
    }
   ],
   "source": [
    "t2 = torch.arange(40).reshape(4, 10)\n",
    "index = torch.tensor([[2, 3], [6, 7], [0, 1], [4, 5]])\n",
    "print(torch.gather(t2, dim=1, index=index))"
   ]
  }
 ],
 "metadata": {
  "kernelspec": {
   "display_name": "Python 3.8.13 ('py3.8')",
   "language": "python",
   "name": "python3"
  },
  "language_info": {
   "codemirror_mode": {
    "name": "ipython",
    "version": 3
   },
   "file_extension": ".py",
   "mimetype": "text/x-python",
   "name": "python",
   "nbconvert_exporter": "python",
   "pygments_lexer": "ipython3",
   "version": "3.8.13"
  },
  "orig_nbformat": 4,
  "vscode": {
   "interpreter": {
    "hash": "49f13778ad79ab3b52001a56e2bcad816e15b173510946ce0c4da748118375f5"
   }
  }
 },
 "nbformat": 4,
 "nbformat_minor": 2
}
