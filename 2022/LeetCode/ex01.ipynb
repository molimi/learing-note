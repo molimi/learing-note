{
 "cells": [
  {
   "cell_type": "code",
   "execution_count": 1,
   "metadata": {},
   "outputs": [
    {
     "name": "stdout",
     "output_type": "stream",
     "text": [
      "The addition of number is: 7\n"
     ]
    }
   ],
   "source": [
    "import operator\n",
    "\n",
    "a = 4\n",
    "b = 3\n",
    "print(\"The addition of number is:\", operator.add(a, b))     # The addition of number is: 7"
   ]
  },
  {
   "cell_type": "code",
   "execution_count": 2,
   "metadata": {},
   "outputs": [
    {
     "name": "stdout",
     "output_type": "stream",
     "text": [
      "3\n",
      "3\n"
     ]
    }
   ],
   "source": [
    "lst1 = ['', '1', '2', '3']\n",
    "print(lst1[3])\n",
    "lst2 = [\"\", \"1\", \"2\", \"3\"]\n",
    "print(lst2[3])"
   ]
  },
  {
   "cell_type": "code",
   "execution_count": 3,
   "metadata": {},
   "outputs": [
    {
     "name": "stdout",
     "output_type": "stream",
     "text": [
      "MMM\n",
      "CM\n",
      "XC\n",
      "IX\n"
     ]
    }
   ],
   "source": [
    "thousands = ['', 'M', 'MM', 'MMM']\n",
    "hundreds = ['', 'C', 'CC', 'CCC', 'CD', 'D', 'DC', 'DCC', 'DCCC', 'CM']\n",
    "tens = ['', 'X', 'XX', 'XXX', 'XL', 'L', 'LX', 'LXX', 'LXXX', 'XC']\n",
    "ones = ['', 'I', 'II', 'III', 'IV', 'V', 'VI', 'VII', 'VIII', 'IX']\n",
    "\n",
    "print(thousands[3])\n",
    "print(hundreds[9])\n",
    "print(tens[9])\n",
    "print(ones[9])"
   ]
  },
  {
   "cell_type": "code",
   "execution_count": 4,
   "metadata": {},
   "outputs": [
    {
     "name": "stdout",
     "output_type": "stream",
     "text": [
      "[[ 0  1  2]\n",
      " [ 3  4  5]\n",
      " [ 6  7  8]\n",
      " [ 9 10 11]]\n",
      "5\n",
      "5\n"
     ]
    }
   ],
   "source": [
    "import numpy as np\n",
    "\n",
    "arr1 = np.arange(12).reshape(4, 3)\n",
    "print(arr1)\n",
    "print(arr1[1, 2])\n",
    "print(arr1[1][2])"
   ]
  },
  {
   "cell_type": "code",
   "execution_count": 5,
   "metadata": {},
   "outputs": [
    {
     "name": "stdout",
     "output_type": "stream",
     "text": [
      "1\n"
     ]
    },
    {
     "data": {
      "text/plain": [
       "['aaa', 'aaa', 'aaa']"
      ]
     },
     "execution_count": 5,
     "metadata": {},
     "output_type": "execute_result"
    }
   ],
   "source": [
    "lst1 = ['a', 'dff', 'ddfffg', 'ujshshsu']\n",
    "lst2 = [len(item) for item in lst1]\n",
    "print(min(lst2))\n",
    "['aaa', 'aaa', 'aaa']"
   ]
  },
  {
   "cell_type": "code",
   "execution_count": 6,
   "metadata": {},
   "outputs": [
    {
     "data": {
      "text/plain": [
       "1"
      ]
     },
     "execution_count": 6,
     "metadata": {},
     "output_type": "execute_result"
    }
   ],
   "source": [
    "def compare(target, lst):\n",
    "    if sum(lst) < target or min(lst) > target:\n",
    "        return 0\n",
    "    else:\n",
    "        return 1\n",
    "\n",
    "compare(5, [1, 2, 3])"
   ]
  },
  {
   "cell_type": "code",
   "execution_count": 7,
   "metadata": {},
   "outputs": [],
   "source": [
    "def findMedianSortedArrays(nums1, nums2):\n",
    "    i, j = 0, 0\n",
    "    nums = nums1[:]\n",
    "    length1, length2 = len(nums1), len(nums2)\n",
    "    while i < length2:\n",
    "        while j < length1-1:\n",
    "            if nums2[i] < nums1[0]:\n",
    "                nums.insert(0, nums2[i])\n",
    "                break\n",
    "            elif nums2[i] > nums1[-1]:\n",
    "                nums.append(nums2[i])\n",
    "                break\n",
    "            elif nums2[i] >= nums1[j] and nums2[i] <= nums1[j+1]:\n",
    "                nums.insert(j+i+1, nums2[i])\n",
    "                break\n",
    "            j += 1\n",
    "        else:\n",
    "            nums += nums2[:]\n",
    "            break\n",
    "        i += 1\n",
    "    length = length1 + length2\n",
    "    print(nums)\n",
    "    if length % 2:\n",
    "        return nums[length//2]\n",
    "    else:\n",
    "        return (nums[length//2] + nums[length//2-1])/2\n"
   ]
  },
  {
   "cell_type": "code",
   "execution_count": 8,
   "metadata": {},
   "outputs": [
    {
     "name": "stdout",
     "output_type": "stream",
     "text": [
      "[3, -2, -1]\n",
      "-2\n"
     ]
    }
   ],
   "source": [
    "print(findMedianSortedArrays([3], [-2, -1]))"
   ]
  },
  {
   "cell_type": "code",
   "execution_count": 9,
   "metadata": {},
   "outputs": [
    {
     "name": "stdout",
     "output_type": "stream",
     "text": [
      "tensor([0, 1, 2, 3, 4, 5])\n",
      "torch.Size([6])\n"
     ]
    }
   ],
   "source": [
    "import torch\n",
    "input = torch.arange(0, 6)\n",
    "print(input)\n",
    "print(input.shape)"
   ]
  },
  {
   "cell_type": "code",
   "execution_count": 10,
   "metadata": {},
   "outputs": [
    {
     "name": "stdout",
     "output_type": "stream",
     "text": [
      "tensor([[0, 1, 2, 3, 4, 5]])\n",
      "torch.Size([1, 6])\n"
     ]
    }
   ],
   "source": [
    "print(input.unsqueeze(0))\n",
    "print(input.unsqueeze(0).shape)"
   ]
  },
  {
   "cell_type": "code",
   "execution_count": 11,
   "metadata": {},
   "outputs": [
    {
     "name": "stdout",
     "output_type": "stream",
     "text": [
      "tensor([[0],\n",
      "        [1],\n",
      "        [2],\n",
      "        [3],\n",
      "        [4],\n",
      "        [5]])\n",
      "torch.Size([6, 1])\n"
     ]
    }
   ],
   "source": [
    "print(input.unsqueeze(1))\n",
    "print(input.unsqueeze(1).shape)"
   ]
  },
  {
   "cell_type": "code",
   "execution_count": 12,
   "metadata": {},
   "outputs": [
    {
     "name": "stdout",
     "output_type": "stream",
     "text": [
      "tensor([[0],\n",
      "        [1],\n",
      "        [2],\n",
      "        [3],\n",
      "        [4],\n",
      "        [5]])\n",
      "torch.Size([6, 1])\n"
     ]
    }
   ],
   "source": [
    "print(input.unsqueeze(-1))\n",
    "print(input.unsqueeze(-1).shape)"
   ]
  },
  {
   "cell_type": "code",
   "execution_count": 17,
   "metadata": {},
   "outputs": [
    {
     "name": "stdout",
     "output_type": "stream",
     "text": [
      "tensor([ 1.,  2., -1., -2., -3.,  4.,  6.])\n",
      "tensor([[ 1.],\n",
      "        [ 2.],\n",
      "        [-1.],\n",
      "        [-2.],\n",
      "        [-3.],\n",
      "        [ 4.],\n",
      "        [ 6.]])\n",
      "tensor([[6.],\n",
      "        [4.],\n",
      "        [3.],\n",
      "        [2.],\n",
      "        [2.],\n",
      "        [1.],\n",
      "        [1.]])\n"
     ]
    }
   ],
   "source": [
    "u = [1, 2, -1, -2, -3, 4, 6]\n",
    "u = torch.Tensor(u)\n",
    "print(u)\n",
    "u = u.unsqueeze(-1)\n",
    "print(u)\n",
    "u_abs_sorted = torch.sort(u.abs(), dim=0, descending=True).values\n",
    "print(u_abs_sorted)"
   ]
  },
  {
   "cell_type": "code",
   "execution_count": 20,
   "metadata": {},
   "outputs": [
    {
     "name": "stdout",
     "output_type": "stream",
     "text": [
      "tensor([[ 0],\n",
      "        [ 1],\n",
      "        [ 2],\n",
      "        [ 3],\n",
      "        [ 4],\n",
      "        [ 5],\n",
      "        [ 6],\n",
      "        [ 7],\n",
      "        [ 8],\n",
      "        [ 9],\n",
      "        [10],\n",
      "        [11],\n",
      "        [12],\n",
      "        [13]])\n",
      "tensor([[0],\n",
      "        [1],\n",
      "        [2],\n",
      "        [3],\n",
      "        [4],\n",
      "        [5],\n",
      "        [6],\n",
      "        [7]])\n"
     ]
    }
   ],
   "source": [
    "v = torch.arange(14)\n",
    "v = v.unsqueeze(-1)\n",
    "print(v)\n",
    "k, batch = u.shape\n",
    "s = torch.arange(k+1.0).view(-1, 1).to(v)\n",
    "print(s)"
   ]
  },
  {
   "cell_type": "code",
   "execution_count": 23,
   "metadata": {},
   "outputs": [
    {
     "name": "stdout",
     "output_type": "stream",
     "text": [
      "tensor([[0.]])\n"
     ]
    }
   ],
   "source": [
    "zeros = torch.zeros(1, batch).to(u)\n",
    "print(zeros)"
   ]
  },
  {
   "cell_type": "code",
   "execution_count": 25,
   "metadata": {},
   "outputs": [
    {
     "name": "stdout",
     "output_type": "stream",
     "text": [
      "tensor([1., 1., 1., 1., 1., 1., 1.])\n",
      "tensor([ 1.,  1., -1., -1., -1.,  1.,  1.])\n"
     ]
    }
   ],
   "source": [
    "x = torch.Tensor([1, 2, -1, -2, -3, 4, 6])\n",
    "ones = torch.ones_like(x)\n",
    "print(ones)\n",
    "print(torch.where(x >= 0, ones, -ones))"
   ]
  }
 ],
 "metadata": {
  "kernelspec": {
   "display_name": "Python 3.8.13 ('py3.8')",
   "language": "python",
   "name": "python3"
  },
  "language_info": {
   "codemirror_mode": {
    "name": "ipython",
    "version": 3
   },
   "file_extension": ".py",
   "mimetype": "text/x-python",
   "name": "python",
   "nbconvert_exporter": "python",
   "pygments_lexer": "ipython3",
   "version": "3.8.13"
  },
  "orig_nbformat": 4,
  "vscode": {
   "interpreter": {
    "hash": "49f13778ad79ab3b52001a56e2bcad816e15b173510946ce0c4da748118375f5"
   }
  }
 },
 "nbformat": 4,
 "nbformat_minor": 2
}
