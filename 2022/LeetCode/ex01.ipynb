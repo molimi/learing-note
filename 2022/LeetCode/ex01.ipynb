{
 "cells": [
  {
   "cell_type": "code",
   "execution_count": 1,
   "metadata": {},
   "outputs": [
    {
     "name": "stdout",
     "output_type": "stream",
     "text": [
      "The addition of number is: 7\n"
     ]
    }
   ],
   "source": [
    "import operator\n",
    "\n",
    "a = 4\n",
    "b = 3\n",
    "print(\"The addition of number is:\", operator.add(a, b))     # The addition of number is: 7"
   ]
  },
  {
   "cell_type": "code",
   "execution_count": 2,
   "metadata": {},
   "outputs": [
    {
     "name": "stdout",
     "output_type": "stream",
     "text": [
      "3\n",
      "3\n"
     ]
    }
   ],
   "source": [
    "lst1 = ['', '1', '2', '3']\n",
    "print(lst1[3])\n",
    "lst2 = [\"\", \"1\", \"2\", \"3\"]\n",
    "print(lst2[3])"
   ]
  },
  {
   "cell_type": "code",
   "execution_count": 7,
   "metadata": {},
   "outputs": [
    {
     "name": "stdout",
     "output_type": "stream",
     "text": [
      "MMM\n",
      "CM\n",
      "XC\n",
      "IX\n"
     ]
    }
   ],
   "source": [
    "thousands = ['', 'M', 'MM', 'MMM']\n",
    "hundreds = ['', 'C', 'CC', 'CCC', 'CD', 'D', 'DC', 'DCC', 'DCCC', 'CM']\n",
    "tens = ['', 'X', 'XX', 'XXX', 'XL', 'L', 'LX', 'LXX', 'LXXX', 'XC']\n",
    "ones = ['', 'I', 'II', 'III', 'IV', 'V', 'VI', 'VII', 'VIII', 'IX']\n",
    "\n",
    "print(thousands[3])\n",
    "print(hundreds[9])\n",
    "print(tens[9])\n",
    "print(ones[9])"
   ]
  },
  {
   "cell_type": "code",
   "execution_count": 11,
   "metadata": {},
   "outputs": [
    {
     "name": "stdout",
     "output_type": "stream",
     "text": [
      "[[ 0  1  2]\n",
      " [ 3  4  5]\n",
      " [ 6  7  8]\n",
      " [ 9 10 11]]\n",
      "5\n",
      "5\n"
     ]
    }
   ],
   "source": [
    "import numpy as np\n",
    "\n",
    "arr1 = np.arange(12).reshape(4, 3)\n",
    "print(arr1)\n",
    "print(arr1[1, 2])\n",
    "print(arr1[1][2])"
   ]
  },
  {
   "cell_type": "code",
   "execution_count": 2,
   "metadata": {},
   "outputs": [
    {
     "name": "stdout",
     "output_type": "stream",
     "text": [
      "1\n"
     ]
    }
   ],
   "source": [
    "lst1 = ['a', 'dff', 'ddfffg', 'ujshshsu']\n",
    "lst2 = [len(item) for item in lst1]\n",
    "print(min(lst2))\n",
    "['aaa', 'aaa', 'aaa']"
   ]
  },
  {
   "cell_type": "code",
   "execution_count": 29,
   "metadata": {},
   "outputs": [
    {
     "data": {
      "text/plain": [
       "1"
      ]
     },
     "execution_count": 29,
     "metadata": {},
     "output_type": "execute_result"
    }
   ],
   "source": [
    "def compare(target, lst):\n",
    "    if sum(lst) < target or min(lst) > target:\n",
    "        return 0\n",
    "    else:\n",
    "        return 1\n",
    "\n",
    "compare(5, [1, 2, 3])"
   ]
  },
  {
   "cell_type": "code",
   "execution_count": 85,
   "metadata": {},
   "outputs": [],
   "source": [
    "def findMedianSortedArrays(nums1, nums2):\n",
    "    i, j = 0, 0\n",
    "    nums = nums1[:]\n",
    "    length1, length2 = len(nums1), len(nums2)\n",
    "    while i < length2:\n",
    "        while j < length1-1:\n",
    "            if nums2[i] < nums1[0]:\n",
    "                nums.insert(0, nums2[i])\n",
    "                break\n",
    "            elif nums2[i] > nums1[-1]:\n",
    "                nums.append(nums2[i])\n",
    "                break\n",
    "            elif nums2[i] >= nums1[j] and nums2[i] <= nums1[j+1]:\n",
    "                nums.insert(j+i+1, nums2[i])\n",
    "                break\n",
    "            j += 1\n",
    "        else:\n",
    "            nums += nums2[:]\n",
    "            break\n",
    "        i += 1\n",
    "    length = length1 + length2\n",
    "    print(nums)\n",
    "    if length % 2:\n",
    "        return nums[length//2]\n",
    "    else:\n",
    "        return (nums[length//2] + nums[length//2-1])/2\n"
   ]
  },
  {
   "cell_type": "code",
   "execution_count": 87,
   "metadata": {},
   "outputs": [
    {
     "name": "stdout",
     "output_type": "stream",
     "text": [
      "[3, -2, -1]\n",
      "-2\n"
     ]
    }
   ],
   "source": [
    "print(findMedianSortedArrays([3], [-2, -1]))"
   ]
  }
 ],
 "metadata": {
  "kernelspec": {
   "display_name": "Python 3.7.0 ('base')",
   "language": "python",
   "name": "python3"
  },
  "language_info": {
   "codemirror_mode": {
    "name": "ipython",
    "version": 3
   },
   "file_extension": ".py",
   "mimetype": "text/x-python",
   "name": "python",
   "nbconvert_exporter": "python",
   "pygments_lexer": "ipython3",
   "version": "3.7.0"
  },
  "orig_nbformat": 4,
  "vscode": {
   "interpreter": {
    "hash": "b09ec625f77bf4fd762565a912b97636504ad6ec901eb2d0f4cf5a7de23e1ee5"
   }
  }
 },
 "nbformat": 4,
 "nbformat_minor": 2
}
