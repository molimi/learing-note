{
 "cells": [
  {
   "cell_type": "code",
   "execution_count": 1,
   "metadata": {},
   "outputs": [
    {
     "data": {
      "text/plain": [
       "'KK'"
      ]
     },
     "execution_count": 1,
     "metadata": {},
     "output_type": "execute_result"
    }
   ],
   "source": [
    "student01 = ('KK', 18, 'M', 2201)\n",
    "student01[0]"
   ]
  },
  {
   "cell_type": "code",
   "execution_count": 5,
   "metadata": {},
   "outputs": [],
   "source": [
    "from dataclasses import dataclass\n",
    "\n",
    "@dataclass\n",
    "class Student:\n",
    "    name: str\n",
    "    gender: str\n",
    "    age: int\n",
    "    number: int"
   ]
  },
  {
   "cell_type": "code",
   "execution_count": 8,
   "metadata": {},
   "outputs": [
    {
     "name": "stdout",
     "output_type": "stream",
     "text": [
      "Student(name='KK', gender='F', age=23, number=2201)\n",
      "False\n"
     ]
    }
   ],
   "source": [
    "stu01 = Student('KK', 'F', 23, 2201)\n",
    "print(stu01)\n",
    "stu02 = Student('MM', 'M', 20, 2202)\n",
    "print(stu02 == stu01)"
   ]
  },
  {
   "cell_type": "code",
   "execution_count": 9,
   "metadata": {},
   "outputs": [],
   "source": [
    "class Student:\n",
    "    def __init__(self, name: str, gender: str, age: int, number: int):\n",
    "        self.name = name\n",
    "        self.gender = gender\n",
    "        self.age = age\n",
    "        self.number = number"
   ]
  },
  {
   "cell_type": "code",
   "execution_count": 12,
   "metadata": {},
   "outputs": [
    {
     "data": {
      "text/plain": [
       "('KK', 'F', 23, 2201)"
      ]
     },
     "execution_count": 12,
     "metadata": {},
     "output_type": "execute_result"
    }
   ],
   "source": [
    "from dataclasses import asdict, astuple, is_dataclass\n",
    "asdict(stu01)       # {'name': 'KK', 'gender': 'F', 'age': 23, 'number': 2201}\n",
    "astuple(stu01)      # ('KK', 'F', 23, 2201)\n",
    "is_dataclass(stu01) # True"
   ]
  },
  {
   "cell_type": "code",
   "execution_count": 15,
   "metadata": {},
   "outputs": [
    {
     "data": {
      "text/plain": [
       "Group(name='To be number one', students=[Student(name='KK', gender='F', age=23, number=2201), Student(name='MM', gender='M', age=20, number=2202)])"
      ]
     },
     "execution_count": 15,
     "metadata": {},
     "output_type": "execute_result"
    }
   ],
   "source": [
    "from dataclasses import field\n",
    "from typing import List\n",
    "\n",
    "@dataclass\n",
    "class Student:\n",
    "    name: str\n",
    "    gender: str\n",
    "    age: int\n",
    "    number: int\n",
    "\n",
    "@dataclass\n",
    "class Group:\n",
    "    name: str\n",
    "    students: List[Student] = field(default_factory=list)\n",
    "\n",
    "stu01 = Student('KK', 'F', 23, 2201)\n",
    "stu02 = Student('MM', 'M', 20, 2202)\n",
    "group_first = Group('To be number one', [stu01, stu02])\n",
    "group_first"
   ]
  },
  {
   "cell_type": "code",
   "execution_count": null,
   "metadata": {},
   "outputs": [],
   "source": [
    "from dataclasses import dataclass\n",
    "from typing import Any\n",
    "\n",
    "@dataclass(frozen=True)\n",
    "class Data:\n",
    "    name: Any\n",
    "    value: Any = 42\n",
    "\n",
    "data = Data(\"myname\", 99)\n",
    "data.name = \"other\"             # FrozenInstanceError: cannot assign to field 'name'"
   ]
  },
  {
   "cell_type": "code",
   "execution_count": 5,
   "metadata": {},
   "outputs": [
    {
     "name": "stdout",
     "output_type": "stream",
     "text": [
      "C\n",
      "D\n",
      "E\n",
      "F\n",
      "G\n",
      "<itertools.islice object at 0x000001DA8FF0BA40>\n"
     ]
    }
   ],
   "source": [
    "from itertools import islice\n",
    "iter = islice('ABCDEFG', 2, None)\n",
    "for item in iter:\n",
    "    print(item)\n",
    "print(islice('ABCDEFG', 2, 4))"
   ]
  },
  {
   "cell_type": "code",
   "execution_count": 6,
   "metadata": {},
   "outputs": [
    {
     "name": "stdout",
     "output_type": "stream",
     "text": [
      "(1, 4)\n",
      "(1, 5)\n",
      "(1, 6)\n",
      "(2, 4)\n",
      "(2, 5)\n",
      "(2, 6)\n",
      "(3, 4)\n",
      "(3, 5)\n",
      "(3, 6)\n"
     ]
    }
   ],
   "source": [
    "import itertools\n",
    "for i in itertools.product([1, 2, 3], [4, 5, 6]):\n",
    "    print(i)"
   ]
  },
  {
   "cell_type": "code",
   "execution_count": 8,
   "metadata": {},
   "outputs": [
    {
     "name": "stderr",
     "output_type": "stream",
     "text": [
      "100%|██████████| 10000/10000 [18:08<00:00,  9.19it/s]\n"
     ]
    }
   ],
   "source": [
    "from tqdm import tqdm\n",
    "from time import sleep\n",
    "for i in tqdm(range(10000)):\n",
    "    sleep(0.1)"
   ]
  }
 ],
 "metadata": {
  "kernelspec": {
   "display_name": "Python 3.9.12 ('base')",
   "language": "python",
   "name": "python3"
  },
  "language_info": {
   "codemirror_mode": {
    "name": "ipython",
    "version": 3
   },
   "file_extension": ".py",
   "mimetype": "text/x-python",
   "name": "python",
   "nbconvert_exporter": "python",
   "pygments_lexer": "ipython3",
   "version": "3.9.12"
  },
  "orig_nbformat": 4,
  "vscode": {
   "interpreter": {
    "hash": "88279d2366fe020547cde40dd65aa0e3aa662a6ec1f3ca12d88834876c85e1a6"
   }
  }
 },
 "nbformat": 4,
 "nbformat_minor": 2
}
