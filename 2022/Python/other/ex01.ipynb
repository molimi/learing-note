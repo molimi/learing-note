{
 "cells": [
  {
   "cell_type": "code",
   "execution_count": 1,
   "metadata": {},
   "outputs": [
    {
     "data": {
      "text/plain": [
       "'KK'"
      ]
     },
     "execution_count": 1,
     "metadata": {},
     "output_type": "execute_result"
    }
   ],
   "source": [
    "student01 = ('KK', 18, 'M', 2201)\n",
    "student01[0]"
   ]
  },
  {
   "cell_type": "code",
   "execution_count": 5,
   "metadata": {},
   "outputs": [],
   "source": [
    "from dataclasses import dataclass\n",
    "\n",
    "@dataclass\n",
    "class Student:\n",
    "    name: str\n",
    "    gender: str\n",
    "    age: int\n",
    "    number: int"
   ]
  },
  {
   "cell_type": "code",
   "execution_count": 8,
   "metadata": {},
   "outputs": [
    {
     "name": "stdout",
     "output_type": "stream",
     "text": [
      "Student(name='KK', gender='F', age=23, number=2201)\n",
      "False\n"
     ]
    }
   ],
   "source": [
    "stu01 = Student('KK', 'F', 23, 2201)\n",
    "print(stu01)\n",
    "stu02 = Student('MM', 'M', 20, 2202)\n",
    "print(stu02 == stu01)"
   ]
  },
  {
   "cell_type": "code",
   "execution_count": 9,
   "metadata": {},
   "outputs": [],
   "source": [
    "class Student:\n",
    "    def __init__(self, name: str, gender: str, age: int, number: int):\n",
    "        self.name = name\n",
    "        self.gender = gender\n",
    "        self.age = age\n",
    "        self.number = number"
   ]
  },
  {
   "cell_type": "code",
   "execution_count": 12,
   "metadata": {},
   "outputs": [
    {
     "data": {
      "text/plain": [
       "('KK', 'F', 23, 2201)"
      ]
     },
     "execution_count": 12,
     "metadata": {},
     "output_type": "execute_result"
    }
   ],
   "source": [
    "from dataclasses import asdict, astuple, is_dataclass\n",
    "asdict(stu01)       # {'name': 'KK', 'gender': 'F', 'age': 23, 'number': 2201}\n",
    "astuple(stu01)      # ('KK', 'F', 23, 2201)\n",
    "is_dataclass(stu01) # True"
   ]
  },
  {
   "cell_type": "code",
   "execution_count": 15,
   "metadata": {},
   "outputs": [
    {
     "data": {
      "text/plain": [
       "Group(name='To be number one', students=[Student(name='KK', gender='F', age=23, number=2201), Student(name='MM', gender='M', age=20, number=2202)])"
      ]
     },
     "execution_count": 15,
     "metadata": {},
     "output_type": "execute_result"
    }
   ],
   "source": [
    "from dataclasses import field\n",
    "from typing import List\n",
    "\n",
    "@dataclass\n",
    "class Student:\n",
    "    name: str\n",
    "    gender: str\n",
    "    age: int\n",
    "    number: int\n",
    "\n",
    "@dataclass\n",
    "class Group:\n",
    "    name: str\n",
    "    students: List[Student] = field(default_factory=list)\n",
    "\n",
    "stu01 = Student('KK', 'F', 23, 2201)\n",
    "stu02 = Student('MM', 'M', 20, 2202)\n",
    "group_first = Group('To be number one', [stu01, stu02])\n",
    "group_first"
   ]
  },
  {
   "cell_type": "code",
   "execution_count": 16,
   "metadata": {},
   "outputs": [
    {
     "ename": "FrozenInstanceError",
     "evalue": "cannot assign to field 'name'",
     "output_type": "error",
     "traceback": [
      "\u001b[1;31m---------------------------------------------------------------------------\u001b[0m",
      "\u001b[1;31mFrozenInstanceError\u001b[0m                       Traceback (most recent call last)",
      "\u001b[1;32md:\\Git\\Workspace\\Note\\learing-note\\2022\\Python\\other\\ex01.ipynb Cell 7\u001b[0m in \u001b[0;36m<cell line: 10>\u001b[1;34m()\u001b[0m\n\u001b[0;32m      <a href='vscode-notebook-cell:/d%3A/Git/Workspace/Note/learing-note/2022/Python/other/ex01.ipynb#W6sZmlsZQ%3D%3D?line=6'>7</a>\u001b[0m     value: Any \u001b[39m=\u001b[39m \u001b[39m42\u001b[39m\n\u001b[0;32m      <a href='vscode-notebook-cell:/d%3A/Git/Workspace/Note/learing-note/2022/Python/other/ex01.ipynb#W6sZmlsZQ%3D%3D?line=8'>9</a>\u001b[0m data \u001b[39m=\u001b[39m Data(\u001b[39m\"\u001b[39m\u001b[39mmyname\u001b[39m\u001b[39m\"\u001b[39m, \u001b[39m99\u001b[39m)\n\u001b[1;32m---> <a href='vscode-notebook-cell:/d%3A/Git/Workspace/Note/learing-note/2022/Python/other/ex01.ipynb#W6sZmlsZQ%3D%3D?line=9'>10</a>\u001b[0m data\u001b[39m.\u001b[39mname \u001b[39m=\u001b[39m \u001b[39m\"\u001b[39m\u001b[39mother\u001b[39m\u001b[39m\"\u001b[39m\n",
      "File \u001b[1;32m<string>:4\u001b[0m, in \u001b[0;36m__setattr__\u001b[1;34m(self, name, value)\u001b[0m\n",
      "\u001b[1;31mFrozenInstanceError\u001b[0m: cannot assign to field 'name'"
     ]
    }
   ],
   "source": [
    "from dataclasses import dataclass\n",
    "from typing import Any\n",
    "\n",
    "@dataclass(frozen=True)\n",
    "class Data:\n",
    "    name: Any\n",
    "    value: Any = 42\n",
    "\n",
    "data = Data(\"myname\", 99)\n",
    "data.name = \"other\"             # FrozenInstanceError: cannot assign to field 'name'"
   ]
  }
 ],
 "metadata": {
  "kernelspec": {
   "display_name": "Python 3.8.13 ('d2l')",
   "language": "python",
   "name": "python3"
  },
  "language_info": {
   "codemirror_mode": {
    "name": "ipython",
    "version": 3
   },
   "file_extension": ".py",
   "mimetype": "text/x-python",
   "name": "python",
   "nbconvert_exporter": "python",
   "pygments_lexer": "ipython3",
   "version": "3.8.13"
  },
  "orig_nbformat": 4,
  "vscode": {
   "interpreter": {
    "hash": "6330671cf013f9362c2cd1e55198b197db19b836250c5c20ff0742b9c9511c0e"
   }
  }
 },
 "nbformat": 4,
 "nbformat_minor": 2
}
