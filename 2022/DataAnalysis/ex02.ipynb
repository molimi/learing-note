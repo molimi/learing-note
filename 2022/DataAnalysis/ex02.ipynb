{
 "cells": [
  {
   "cell_type": "code",
   "execution_count": 1,
   "metadata": {},
   "outputs": [
    {
     "name": "stdout",
     "output_type": "stream",
     "text": [
      "[4 8 7 3 4 4]\n",
      "[-1  1  1 -1 -1 -1]\n"
     ]
    }
   ],
   "source": [
    "import numpy as np\n",
    "array1 = np.random.randint(1, 10, 6)\n",
    "print(array1)\n",
    "print(np.where(array1 > 5, 1, -1))"
   ]
  },
  {
   "cell_type": "code",
   "execution_count": 2,
   "metadata": {},
   "outputs": [
    {
     "data": {
      "text/plain": [
       "(array([1, 2], dtype=int64),)"
      ]
     },
     "execution_count": 2,
     "metadata": {},
     "output_type": "execute_result"
    }
   ],
   "source": [
    "np.where(array1 > 5)    # 获取满足条件得位置"
   ]
  },
  {
   "cell_type": "code",
   "execution_count": 3,
   "metadata": {},
   "outputs": [
    {
     "data": {
      "text/plain": [
       "array([8, 7])"
      ]
     },
     "execution_count": 3,
     "metadata": {},
     "output_type": "execute_result"
    }
   ],
   "source": [
    "array1[np.where(array1 > 5)]"
   ]
  },
  {
   "cell_type": "code",
   "execution_count": 4,
   "metadata": {},
   "outputs": [
    {
     "name": "stdout",
     "output_type": "stream",
     "text": [
      "[[0 1 2]\n",
      " [3 4 5]]\n",
      "[[0 0]\n",
      " [0 2]\n",
      " [1 1]]\n",
      "(array([0, 0, 1], dtype=int64), array([0, 2, 1], dtype=int64))\n"
     ]
    }
   ],
   "source": [
    "array2 = np.arange(6).reshape(2, 3)\n",
    "print(array2)\n",
    "print(np.argwhere(array2 % 2 == 0))\n",
    "print(np.where(array2 % 2 == 0))"
   ]
  },
  {
   "cell_type": "code",
   "execution_count": 5,
   "metadata": {},
   "outputs": [
    {
     "name": "stdout",
     "output_type": "stream",
     "text": [
      "[1 3 3 3 0 1]\n"
     ]
    }
   ],
   "source": [
    "arr01 = np.array([0, 1, 1, 3, 2, 1, 2, 2, 3, 3, 5])\n",
    "print(np.bincount(arr01))       # [1 3 3 3 0 1]"
   ]
  },
  {
   "cell_type": "code",
   "execution_count": 6,
   "metadata": {},
   "outputs": [
    {
     "name": "stdout",
     "output_type": "stream",
     "text": [
      "[1 3 3 3 0 1]\n",
      "[1 3 3 3 0 1 0 0]\n"
     ]
    }
   ],
   "source": [
    "print(np.bincount(arr01, minlength=3))          # [1 3 3 3 0 1]\n",
    "print(np.bincount(arr01, minlength=8))          # [1 3 3 3 0 1 0 0]"
   ]
  },
  {
   "cell_type": "code",
   "execution_count": 8,
   "metadata": {},
   "outputs": [
    {
     "name": "stdout",
     "output_type": "stream",
     "text": [
      "[-1.   0.5  1.2]\n"
     ]
    }
   ],
   "source": [
    "arr02 = np.array([1, 2, 1, 2, 0])\n",
    "weights = np.array([0.3, 0.5, 0.2, 0.7, -1.])\n",
    "print(np.bincount(arr02, weights=weights))  #   [-1.   0.5  1.2]"
   ]
  }
 ],
 "metadata": {
  "kernelspec": {
   "display_name": "Python 3.9.12 ('base')",
   "language": "python",
   "name": "python3"
  },
  "language_info": {
   "codemirror_mode": {
    "name": "ipython",
    "version": 3
   },
   "file_extension": ".py",
   "mimetype": "text/x-python",
   "name": "python",
   "nbconvert_exporter": "python",
   "pygments_lexer": "ipython3",
   "version": "3.9.12"
  },
  "orig_nbformat": 4,
  "vscode": {
   "interpreter": {
    "hash": "88279d2366fe020547cde40dd65aa0e3aa662a6ec1f3ca12d88834876c85e1a6"
   }
  }
 },
 "nbformat": 4,
 "nbformat_minor": 2
}
