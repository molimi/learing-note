{
 "cells": [
  {
   "cell_type": "code",
   "execution_count": 8,
   "metadata": {},
   "outputs": [],
   "source": [
    "# 导入库\n",
    "import numpy as np\n",
    "from matplotlib import pyplot as plt"
   ]
  },
  {
   "cell_type": "markdown",
   "metadata": {},
   "source": [
    "方法一：使用array函数，通过list创建数组对象"
   ]
  },
  {
   "cell_type": "code",
   "execution_count": 2,
   "metadata": {},
   "outputs": [
    {
     "data": {
      "text/plain": [
       "array([1, 2, 3, 4, 5])"
      ]
     },
     "execution_count": 2,
     "metadata": {},
     "output_type": "execute_result"
    }
   ],
   "source": [
    "array1 = np.array([1, 2, 3, 4, 5])\n",
    "array1"
   ]
  },
  {
   "cell_type": "code",
   "execution_count": 5,
   "metadata": {},
   "outputs": [
    {
     "data": {
      "text/plain": [
       "array([[[90, 35, 28, 31],\n",
       "        [90, 34, 10, 20],\n",
       "        [82, 36, 24, 25]],\n",
       "\n",
       "       [[21, 23, 73, 75],\n",
       "        [52, 95,  3, 33],\n",
       "        [96, 73, 34, 57]]])"
      ]
     },
     "execution_count": 5,
     "metadata": {},
     "output_type": "execute_result"
    }
   ],
   "source": [
    "array17 = np.random.randint(1, 100, (4, 6)).reshape((2, 3, 4))\n",
    "array17"
   ]
  },
  {
   "cell_type": "code",
   "execution_count": 9,
   "metadata": {},
   "outputs": [
    {
     "data": {
      "text/plain": [
       "array([[[204, 204, 204],\n",
       "        [105, 105, 105],\n",
       "        [  3,   3,   3],\n",
       "        ...,\n",
       "        [  3,   4,   0],\n",
       "        [  3,   4,   0],\n",
       "        [  4,   5,   0]],\n",
       "\n",
       "       [[206, 206, 206],\n",
       "        [106, 106, 106],\n",
       "        [  4,   4,   4],\n",
       "        ...,\n",
       "        [  6,   7,   2],\n",
       "        [  6,   7,   2],\n",
       "        [  6,   7,   2]],\n",
       "\n",
       "       [[208, 208, 208],\n",
       "        [108, 108, 108],\n",
       "        [  6,   6,   6],\n",
       "        ...,\n",
       "        [ 10,  11,   6],\n",
       "        [ 10,  11,   6],\n",
       "        [  9,  10,   5]],\n",
       "\n",
       "       ...,\n",
       "\n",
       "       [[206, 207, 199],\n",
       "        [112, 113, 105],\n",
       "        [ 25,  26,  18],\n",
       "        ...,\n",
       "        [  9,  41,   2],\n",
       "        [ 12,  37,   7],\n",
       "        [ 15,  35,  10]],\n",
       "\n",
       "       [[206, 207, 199],\n",
       "        [113, 114, 106],\n",
       "        [ 26,  27,  19],\n",
       "        ...,\n",
       "        [  9,  41,   2],\n",
       "        [ 11,  36,   6],\n",
       "        [ 14,  34,   9]],\n",
       "\n",
       "       [[207, 208, 200],\n",
       "        [113, 114, 106],\n",
       "        [ 27,  28,  20],\n",
       "        ...,\n",
       "        [  9,  41,   2],\n",
       "        [ 11,  36,   6],\n",
       "        [ 14,  34,   9]]], dtype=uint8)"
      ]
     },
     "execution_count": 9,
     "metadata": {},
     "output_type": "execute_result"
    }
   ],
   "source": [
    "from matplotlib import pyplot as plt        # 导入库\n",
    "array18 = plt.imread('01.jpg')              # 任意加载一张图片\n",
    "array18"
   ]
  },
  {
   "cell_type": "code",
   "execution_count": 11,
   "metadata": {},
   "outputs": [
    {
     "name": "stdout",
     "output_type": "stream",
     "text": [
      "50 12\n"
     ]
    }
   ],
   "source": [
    "array_one = np.arange(1, 100, 2)\n",
    "array_two = np.random.rand(3, 4)\n",
    "print(array_one.size, array_two.size)       # 50, 12"
   ]
  },
  {
   "cell_type": "code",
   "execution_count": 12,
   "metadata": {},
   "outputs": [
    {
     "name": "stdout",
     "output_type": "stream",
     "text": [
      "(50,) (3, 4)\n"
     ]
    }
   ],
   "source": [
    "print(array_one.shape, array_two.shape)     # (50,) (3, 4)"
   ]
  },
  {
   "cell_type": "code",
   "execution_count": 13,
   "metadata": {},
   "outputs": [
    {
     "name": "stdout",
     "output_type": "stream",
     "text": [
      "int32 float64\n"
     ]
    }
   ],
   "source": [
    "print(array_one.dtype, array_two.dtype)     # int32 float64"
   ]
  },
  {
   "cell_type": "code",
   "execution_count": 14,
   "metadata": {},
   "outputs": [
    {
     "name": "stdout",
     "output_type": "stream",
     "text": [
      "1 2\n"
     ]
    }
   ],
   "source": [
    "print(array_one.ndim, array_two.ndim)       # 1 2"
   ]
  },
  {
   "cell_type": "code",
   "execution_count": 15,
   "metadata": {},
   "outputs": [
    {
     "name": "stdout",
     "output_type": "stream",
     "text": [
      "4 8 1\n"
     ]
    }
   ],
   "source": [
    "array_three = np.arange(1, 100, 2, dtype=np.int8)\n",
    "print(array_one.itemsize, array_two.itemsize, array_three.itemsize)     # 4 8 1"
   ]
  },
  {
   "cell_type": "code",
   "execution_count": 16,
   "metadata": {},
   "outputs": [
    {
     "name": "stdout",
     "output_type": "stream",
     "text": [
      "200 96 50\n"
     ]
    }
   ],
   "source": [
    "print(array_one.nbytes, array_two.nbytes, array_three.nbytes)       # 200 96 50"
   ]
  },
  {
   "cell_type": "code",
   "execution_count": 18,
   "metadata": {},
   "outputs": [
    {
     "name": "stdout",
     "output_type": "stream",
     "text": [
      "False True\n"
     ]
    }
   ],
   "source": [
    "from typing import Iterable\n",
    "print(isinstance(array_two.flat, np.ndarray), isinstance(array_two.flat, Iterable))     # False True"
   ]
  },
  {
   "cell_type": "code",
   "execution_count": 19,
   "metadata": {},
   "outputs": [
    {
     "name": "stdout",
     "output_type": "stream",
     "text": [
      "True False\n"
     ]
    }
   ],
   "source": [
    "array_four = array_one[:]\n",
    "print(array_four.base is array_one, array_one.base is array_three)      # True False"
   ]
  },
  {
   "cell_type": "code",
   "execution_count": 20,
   "metadata": {},
   "outputs": [
    {
     "name": "stdout",
     "output_type": "stream",
     "text": [
      "0 9\n",
      "0 9\n"
     ]
    }
   ],
   "source": [
    "array19 = np.arange(10)\n",
    "print(array19[0], array19[array19.size-1])      # 0 9\n",
    "print(array19[-array19.size], array19[-1])      # 0 9"
   ]
  },
  {
   "cell_type": "code",
   "execution_count": 21,
   "metadata": {},
   "outputs": [
    {
     "name": "stdout",
     "output_type": "stream",
     "text": [
      "[7 8 9]\n",
      "1 9\n"
     ]
    }
   ],
   "source": [
    "array20 = np.array([[1, 2, 3], [4, 5, 6], [7, 8, 9]])\n",
    "print(array20[2])       # [7 8 9]\n",
    "print(array20[0][0], array20[-1][-1])       # 1 9"
   ]
  },
  {
   "cell_type": "code",
   "execution_count": 25,
   "metadata": {},
   "outputs": [
    {
     "name": "stdout",
     "output_type": "stream",
     "text": [
      "[[2 3]\n",
      " [5 6]]\n",
      "[7 8 9]\n",
      "[7 8 9]\n",
      "[[7 8 9]]\n",
      "[[1 2]\n",
      " [4 5]\n",
      " [7 8]]\n",
      "[4 5]\n",
      "[[4 5]]\n",
      "[[1 3]\n",
      " [7 9]]\n",
      "[[9 7]\n",
      " [3 1]]\n"
     ]
    }
   ],
   "source": [
    "print(array20[:2, 1:])      # [[2 3] [5 6]]\n",
    "print(array20[2])           # [7 8 9]\n",
    "print(array20[2, :])        # [7 8 9]\n",
    "print(array20[2:, :])       # [[7 8 9]]\n",
    "print(array20[:, :2])       # [[1 2] [4 5] [7 8]]\n",
    "print(array20[1, :2])       # [4 5]\n",
    "print(array20[1:2, :2])     # [[4 5]]\n",
    "print(array20[::2, ::2])    # [[1 3] [7 9]]\n",
    "print(array20[::-2, ::-2])  # [[9 7] [3 1]]"
   ]
  },
  {
   "cell_type": "code",
   "execution_count": 27,
   "metadata": {},
   "outputs": [
    {
     "data": {
      "text/plain": [
       "array([0, 1, 9])"
      ]
     },
     "execution_count": 27,
     "metadata": {},
     "output_type": "execute_result"
    }
   ],
   "source": [
    "array21 = np.arange(10)\n",
    "array21[[0, 1, -1]]     # array([0, 1, 9])"
   ]
  },
  {
   "cell_type": "code",
   "execution_count": 31,
   "metadata": {},
   "outputs": [
    {
     "data": {
      "text/plain": [
       "array([20, 90])"
      ]
     },
     "execution_count": 31,
     "metadata": {},
     "output_type": "execute_result"
    }
   ],
   "source": [
    "array22 = np.array([[30, 20, 10], [40, 60, 50], [10, 90, 80]])\n",
    "array22[[0, 2]]         # 取二维数组的第1行和第3行\n",
    "array22[[0, 2], [1, 2]] # 取二维数组第1行第2列，第3行第3列的两个元素 array([20, 80])\n",
    "array22[[0, 2], 1]      # 取二维数组第1行第2列，第3行第2列的两个元素 array([20, 90])"
   ]
  },
  {
   "cell_type": "code",
   "execution_count": 32,
   "metadata": {},
   "outputs": [
    {
     "name": "stdout",
     "output_type": "stream",
     "text": [
      "30\n",
      "3.0\n",
      "5\n",
      "1\n",
      "1.4142135623730951\n",
      "2.0\n",
      "[ 1  3  6 10 15 20 24 27 29 30]\n"
     ]
    }
   ],
   "source": [
    "array24 = np.array([1, 2, 3, 4, 5, 5, 4, 3, 2, 1])\n",
    "print(array24.sum())        # 30\n",
    "print(array24.mean())       # 3.0\n",
    "print(array24.max())        # 5\n",
    "print(array24.min())        # 1\n",
    "print(array24.std())        # 1.4142135623730951\n",
    "print(array24.var())        # 2.0\n",
    "print(array24.cumsum())     # [ 1  3  6 10 15 20 24 27 29 30]"
   ]
  },
  {
   "cell_type": "code",
   "execution_count": 1,
   "metadata": {},
   "outputs": [
    {
     "name": "stdout",
     "output_type": "stream",
     "text": [
      "[0.         0.5        0.70710678 0.8660254  1.        ]\n"
     ]
    }
   ],
   "source": [
    "import numpy as np\n",
    "array34 = np.array([0, 30, 45, 60, 90])\n",
    "print(np.sin(array34*np.pi/180))"
   ]
  },
  {
   "cell_type": "code",
   "execution_count": 2,
   "metadata": {},
   "outputs": [
    {
     "name": "stdout",
     "output_type": "stream",
     "text": [
      "[  1.   6. 123.   1.  26.]\n"
     ]
    }
   ],
   "source": [
    "array35 = np.array([1.0, 5.55,  123,  0.567,  25.532]) \n",
    "print(np.around(array35))"
   ]
  },
  {
   "cell_type": "code",
   "execution_count": 3,
   "metadata": {},
   "outputs": [
    {
     "name": "stdout",
     "output_type": "stream",
     "text": [
      "[1 0 2]\n"
     ]
    }
   ],
   "source": [
    "array36 = np.array([10, 20, 30])\n",
    "array37 = np.array([3, 5, 7])\n",
    "print(np.mod(array36, array37))"
   ]
  }
 ],
 "metadata": {
  "kernelspec": {
   "display_name": "Python 3.9.12 ('base')",
   "language": "python",
   "name": "python3"
  },
  "language_info": {
   "codemirror_mode": {
    "name": "ipython",
    "version": 3
   },
   "file_extension": ".py",
   "mimetype": "text/x-python",
   "name": "python",
   "nbconvert_exporter": "python",
   "pygments_lexer": "ipython3",
   "version": "3.9.12"
  },
  "orig_nbformat": 4,
  "vscode": {
   "interpreter": {
    "hash": "88279d2366fe020547cde40dd65aa0e3aa662a6ec1f3ca12d88834876c85e1a6"
   }
  }
 },
 "nbformat": 4,
 "nbformat_minor": 2
}
