{
 "cells": [
  {
   "attachments": {},
   "cell_type": "markdown",
   "metadata": {},
   "source": [
    "### 1 heapq"
   ]
  },
  {
   "cell_type": "code",
   "execution_count": 13,
   "metadata": {},
   "outputs": [
    {
     "name": "stdout",
     "output_type": "stream",
     "text": [
      "1\n",
      "[1, 2, 3, 5, 23, 54, 132]\n"
     ]
    }
   ],
   "source": [
    "import heapq\n",
    "\n",
    "nums = [2, 3,5, 1, 54, 23, 132]\n",
    "heap = []\n",
    "for num in nums:\n",
    "    heapq.heappush(heap, num)       # 加入堆\n",
    "\n",
    "print(heap[0])                      # 只想获取最小值而不是弹出，使用heap[0]\n",
    "print([heapq.heappop(heap) for _ in range(len(nums))])      # 堆排序结果"
   ]
  },
  {
   "cell_type": "code",
   "execution_count": 19,
   "metadata": {},
   "outputs": [
    {
     "name": "stdout",
     "output_type": "stream",
     "text": [
      "[1, 2, 3, 5, 23, 54, 132]\n",
      "[10]\n"
     ]
    }
   ],
   "source": [
    "nums = [2, 3, 5, 1, 54, 23, 132]\n",
    "heapq.heapify(nums)\n",
    "print([heapq.heappop(nums) for _ in range(len(nums))])\n",
    "nums.append(10)\n",
    "print(nums)"
   ]
  },
  {
   "cell_type": "code",
   "execution_count": null,
   "metadata": {},
   "outputs": [],
   "source": []
  },
  {
   "cell_type": "code",
   "execution_count": 22,
   "metadata": {},
   "outputs": [
    {
     "name": "stdout",
     "output_type": "stream",
     "text": [
      "[23, 2, 12, 32, 3, 5, 34, 54, 23, 132, 656, 324, 23, 54]\n",
      "[2, 3, 5, 12, 23, 23, 23, 32, 34, 54, 54, 132, 324, 656]\n"
     ]
    }
   ],
   "source": [
    "nums1 = [32, 3, 5, 34, 54, 23, 132]\n",
    "nums2 = [23, 2, 12, 656, 324, 23, 54]\n",
    "\n",
    "ans = heapq.merge(nums1, nums2)\n",
    "print(list(ans))        # [23, 2, 12, 32, 3, 5, 34, 54, 23, 132, 656, 324, 23, 54]\n",
    "nums1 = sorted(nums1)\n",
    "nums2 = sorted(nums2)\n",
    "\n",
    "res = heapq.merge(nums1, nums2)\n",
    "print(list(res))        # [2, 3, 5, 12, 23, 23, 23, 32, 34, 54, 54, 132, 324, 656]"
   ]
  },
  {
   "cell_type": "code",
   "execution_count": 10,
   "metadata": {},
   "outputs": [
    {
     "name": "stdout",
     "output_type": "stream",
     "text": [
      "[1, 3, 5, 2, 6, 8, 9, 3, 12]\n",
      "1\n",
      "3\n",
      "[-1, 2, 5, 3, 6, 8, 9, 12]\n"
     ]
    }
   ],
   "source": [
    "list1 = [1, 3, 5, 2, 6, 8, 9, 3]\n",
    "\n",
    "heapq.heappush(list1, 12)\n",
    "print(list1)\n",
    "\n",
    "heapq1 = heapq.heappop(list1)\n",
    "print(heapq1)\n",
    "\n",
    "list1.append(-1)\n",
    "heapq2 = heapq.heappop(list1)\n",
    "print(heapq2)\n",
    "print(list1)"
   ]
  },
  {
   "cell_type": "code",
   "execution_count": 15,
   "metadata": {},
   "outputs": [
    {
     "name": "stdout",
     "output_type": "stream",
     "text": [
      "2\n",
      "[12, 23, 45, 43]\n"
     ]
    }
   ],
   "source": [
    "nums = [2, 43, 45, 23, 12]\n",
    "heapq.heapify(nums)\n",
    "print(heapq.heappop(nums))\n",
    "\n",
    "print(nums)"
   ]
  },
  {
   "cell_type": "code",
   "execution_count": 16,
   "metadata": {},
   "outputs": [
    {
     "name": "stdout",
     "output_type": "stream",
     "text": [
      "[2, 3, 4, 5, 23]\n"
     ]
    }
   ],
   "source": [
    "nums = [1, 2, 4, 5, 3]\n",
    "heapq.heapify(nums)\n",
    "\n",
    "heapq.heapreplace(nums, 23)\n",
    "print([heapq.heappop(nums) for _ in range(len(nums))])"
   ]
  },
  {
   "cell_type": "code",
   "execution_count": 17,
   "metadata": {},
   "outputs": [
    {
     "name": "stdout",
     "output_type": "stream",
     "text": [
      "[200, 18, 20, 1, 10, 5]\n"
     ]
    }
   ],
   "source": [
    "nums = []\n",
    "for num in [1, 5, 20, 18, 10, 200]:\n",
    "    heapq.heappush(nums, -num)\n",
    "print(list(map(lambda x:-x, nums)))"
   ]
  },
  {
   "cell_type": "code",
   "execution_count": 21,
   "metadata": {},
   "outputs": [
    {
     "name": "stdout",
     "output_type": "stream",
     "text": [
      "[5, 10, 18, 20, 100, 200]\n",
      "[]\n"
     ]
    }
   ],
   "source": [
    "nums = [20, 5, 1, 18, 200, 10]\n",
    "heapq.heapify(nums)\n",
    "heapq.heappushpop(nums, 100)\n",
    "print([heapq.heappop(nums) for _ in range(len(nums))])      # [5, 10, 18, 20, 100, 200]\n",
    "print(nums)"
   ]
  },
  {
   "cell_type": "code",
   "execution_count": 25,
   "metadata": {},
   "outputs": [
    {
     "name": "stdout",
     "output_type": "stream",
     "text": [
      "{'n', 'a', 's'}\n",
      "nsna\n"
     ]
    }
   ],
   "source": [
    "st = \"ansn\"\n",
    "print(set(st))\n",
    "print(st[::-1])"
   ]
  },
  {
   "cell_type": "code",
   "execution_count": 33,
   "metadata": {},
   "outputs": [
    {
     "name": "stdout",
     "output_type": "stream",
     "text": [
      "11\n",
      "10\n",
      "True\n"
     ]
    }
   ],
   "source": [
    "n = 10\n",
    "n = -~n             # +1\n",
    "print(n)            # 11\n",
    "n = ~-n             # -1\n",
    "print(n)            # 10"
   ]
  },
  {
   "cell_type": "code",
   "execution_count": 34,
   "metadata": {},
   "outputs": [
    {
     "name": "stdout",
     "output_type": "stream",
     "text": [
      "True\n",
      "False\n"
     ]
    }
   ],
   "source": [
    "x, y = -1, 2\n",
    "print((x^y)<0)          # True\n",
    "x, y = 1, 2\n",
    "print((x^y)<0)          # False"
   ]
  },
  {
   "cell_type": "code",
   "execution_count": 35,
   "metadata": {},
   "outputs": [
    {
     "data": {
      "text/plain": [
       "array([[ 1.22319078, -1.49850244,  1.21268295, -2.4579291 ,  1.8448293 ,\n",
       "        -0.77284074],\n",
       "       [ 0.57395709, -0.18407656,  0.25629936, -0.28978995,  0.42072459,\n",
       "        -0.99239633],\n",
       "       [ 1.31687594, -1.16195757, -1.65477483, -0.19695368, -0.17760578,\n",
       "        -0.66222763],\n",
       "       [ 1.9253499 ,  1.41966124,  1.56094658, -0.03371532,  0.19000646,\n",
       "        -0.93934389],\n",
       "       [ 0.03768554,  0.45560503,  0.20187599, -1.332125  , -1.30952602,\n",
       "        -0.37884942],\n",
       "       [-1.50570795,  1.70595609, -0.60344891,  0.22887515, -3.08758302,\n",
       "        -0.75110605]])"
      ]
     },
     "metadata": {},
     "output_type": "display_data"
    },
    {
     "data": {
      "text/plain": [
       "array([0, 2, 1, 0, 1, 3])"
      ]
     },
     "metadata": {},
     "output_type": "display_data"
    }
   ],
   "source": [
    "from sklearn.datasets import make_classification\n",
    "\n",
    "X, y = make_classification(n_samples=6, n_classes=4, n_features=6, n_informative=5, n_redundant=1, n_clusters_per_class=1)\n",
    "display(X, y)"
   ]
  },
  {
   "cell_type": "code",
   "execution_count": 1,
   "metadata": {},
   "outputs": [
    {
     "name": "stdout",
     "output_type": "stream",
     "text": [
      "deque(['a', 'b', 'c', 'd', 4])\n",
      "deque([0, 1, 2, 3, 'k'])\n"
     ]
    }
   ],
   "source": [
    "from collections import deque\n",
    "st = \"abcd\"\n",
    "list1 = [0, 1, 2, 3]\n",
    "dlist1 = deque(st)\n",
    "dlist2 = deque(list1)\n",
    "dlist1.append(4)\n",
    "dlist2.append('k')\n",
    "print(dlist1)\n",
    "print(dlist2)"
   ]
  },
  {
   "cell_type": "code",
   "execution_count": 3,
   "metadata": {},
   "outputs": [
    {
     "name": "stdout",
     "output_type": "stream",
     "text": [
      "3\n"
     ]
    },
    {
     "ename": "",
     "evalue": "",
     "output_type": "error",
     "traceback": [
      "\u001b[1;31m在当前单元格或上一个单元格中执行代码时 Kernel 崩溃。请查看单元格中的代码，以确定故障的可能原因。有关详细信息，请单击 <a href='https://aka.ms/vscodeJupyterKernelCrash'>此处</a>。有关更多详细信息，请查看 Jupyter <a href='command:jupyter.viewOutput'>log</a>。"
     ]
    }
   ],
   "source": [
    "print(-5%4)"
   ]
  },
  {
   "cell_type": "code",
   "execution_count": 5,
   "metadata": {},
   "outputs": [
    {
     "name": "stdout",
     "output_type": "stream",
     "text": [
      "[[1 2 3]\n",
      " [4 5 6]]\n",
      "[2.5 3.5 4.5]\n"
     ]
    }
   ],
   "source": [
    "import numpy as np\n",
    "\n",
    "list1 = [1, 2, 3, 4, 5, 6]\n",
    "arr1 = np.array(list1).reshape(2, 3)\n",
    "print(arr1)\n",
    "print(np.mean(arr1, axis=0))"
   ]
  },
  {
   "cell_type": "code",
   "execution_count": null,
   "metadata": {},
   "outputs": [],
   "source": [
    "class Solution(object):\n",
    "    def find132pattern(self, nums):\n",
    "        N = len(nums)\n",
    "        left_min = [float(\"inf\")] * N\n",
    "        for i in range(1, N):\n",
    "            left_min[i] = min(left_min[i - 1], nums[i - 1])\n",
    "        stack = []\n",
    "        for j in range(N - 1, -1, -1):\n",
    "            mask = float(\"-inf\")\n",
    "            while stack and stack[-1] < nums[j]:\n",
    "                mask = stack.pop()\n",
    "            if left_min[j] < mask:\n",
    "                return True\n",
    "            stack.append(nums[j])\n",
    "        return False"
   ]
  },
  {
   "cell_type": "code",
   "execution_count": 6,
   "metadata": {},
   "outputs": [
    {
     "name": "stdout",
     "output_type": "stream",
     "text": [
      "[3, 4, 5, 6, 7, 8, 9]\n"
     ]
    }
   ],
   "source": [
    "list1 = [1,2,3,4,5,6,7,8,9]\n",
    "nums = list1[2:]\n",
    "print(nums)"
   ]
  },
  {
   "cell_type": "code",
   "execution_count": 9,
   "metadata": {},
   "outputs": [
    {
     "name": "stdout",
     "output_type": "stream",
     "text": [
      "1682172566.856574\n",
      "2023\n"
     ]
    }
   ],
   "source": [
    "import time\n",
    "print(time.time())\n",
    "time = time.localtime(time.time())\n",
    "print(time.tm_year)"
   ]
  },
  {
   "cell_type": "code",
   "execution_count": 12,
   "metadata": {},
   "outputs": [
    {
     "name": "stdout",
     "output_type": "stream",
     "text": [
      "a= 2018\n"
     ]
    }
   ],
   "source": [
    "a = 2020-1-1\n",
    "print(\"a=\", a)"
   ]
  },
  {
   "cell_type": "code",
   "execution_count": 13,
   "metadata": {},
   "outputs": [
    {
     "name": "stdout",
     "output_type": "stream",
     "text": [
      "0\n"
     ]
    }
   ],
   "source": [
    "str1 = \"assd\"\n",
    "print(str1.find('a'))"
   ]
  },
  {
   "cell_type": "code",
   "execution_count": null,
   "metadata": {},
   "outputs": [],
   "source": [
    "# 列表转二叉树\n",
    "class TreeNode:\n",
    "    def __init__(self, val=0, left=None, right=None):\n",
    "        self.val = val\n",
    "        self.left = left\n",
    "        self.right = right\n",
    "\n",
    "\n",
    "# 列表转二叉树\n",
    "def List2Tree(nums: List) -> TreeNode:\n",
    "    \"\"\" 由输入列表生成树，返回根节点 \"\"\"\n",
    "    q = []\n",
    "    if not nums:\n",
    "        return\n",
    "    root = TreeNode(val=nums.pop(0))\n",
    "    q.append(root)\n",
    "    while q:\n",
    "        curr = q.pop(0)\n",
    "        if nums:\n",
    "            if nums[0] != None:\n",
    "                curr.left = TreeNode(val=nums.pop(0))\n",
    "                q.append(curr.left)\n",
    "            else:\n",
    "                nums.pop(0)\n",
    "        if nums:\n",
    "            if nums[0] != None:\n",
    "                curr.right = TreeNode(val=nums.pop(0))\n",
    "                q.append(curr.right)\n",
    "            else:\n",
    "                nums.pop(0)\n",
    "    return root"
   ]
  },
  {
   "cell_type": "code",
   "execution_count": 15,
   "metadata": {},
   "outputs": [
    {
     "data": {
      "text/plain": [
       "1"
      ]
     },
     "execution_count": 15,
     "metadata": {},
     "output_type": "execute_result"
    }
   ],
   "source": [
    "lt = [1, 2, 3, 4, 5, 6, 7, 8, 9]\n",
    "lt.index(2)"
   ]
  },
  {
   "cell_type": "code",
   "execution_count": 16,
   "metadata": {},
   "outputs": [
    {
     "name": "stdout",
     "output_type": "stream",
     "text": [
      "SortedSet([2, 10])\n"
     ]
    }
   ],
   "source": [
    "from sortedcontainers import SortedSet\n",
    "set1 = SortedSet()\n",
    "set1.add(10)\n",
    "set1.add(2)\n",
    "print(set1)"
   ]
  },
  {
   "cell_type": "code",
   "execution_count": 20,
   "metadata": {},
   "outputs": [
    {
     "name": "stdout",
     "output_type": "stream",
     "text": [
      "Counter({1: 3, 2: 2, 11: 1})\n",
      "dict_values([3, 2, 1])\n",
      "3\n"
     ]
    }
   ],
   "source": [
    "from collections import Counter\n",
    "list1 = [1,2,2,1,11,1]\n",
    "cou = Counter(list1)\n",
    "print(cou)\n",
    "print(cou.values())\n",
    "print(list1.count(1))"
   ]
  },
  {
   "cell_type": "code",
   "execution_count": 22,
   "metadata": {},
   "outputs": [
    {
     "name": "stdout",
     "output_type": "stream",
     "text": [
      "True\n"
     ]
    }
   ],
   "source": [
    "values = [1, 1, 1,1]\n",
    "print(all(value==1 for value in values))"
   ]
  },
  {
   "cell_type": "code",
   "execution_count": 25,
   "metadata": {},
   "outputs": [
    {
     "name": "stdout",
     "output_type": "stream",
     "text": [
      "3.0\n"
     ]
    }
   ],
   "source": [
    "from math import log\n",
    "print(log(8, 2))"
   ]
  },
  {
   "cell_type": "code",
   "execution_count": 1,
   "metadata": {},
   "outputs": [
    {
     "name": "stdout",
     "output_type": "stream",
     "text": [
      "{'a', 'b'}\n"
     ]
    }
   ],
   "source": [
    "print(set(\"abababab\"))"
   ]
  },
  {
   "cell_type": "code",
   "execution_count": 8,
   "metadata": {},
   "outputs": [
    {
     "name": "stdout",
     "output_type": "stream",
     "text": [
      "{'1': '2', '2': '3', '3': '4', '4': '5'}\n",
      "{'c': 'k', 'k': 'a', 'a': 'o', 'o': 'r', 'r': 'c'}\n"
     ]
    }
   ],
   "source": [
    "from itertools import pairwise\n",
    "\n",
    "print(dict(pairwise('12345')))\n",
    "PREVIOUS = dict(pairwise(\"croakc\"[::-1]))\n",
    "print(PREVIOUS)"
   ]
  },
  {
   "cell_type": "code",
   "execution_count": 5,
   "metadata": {},
   "outputs": [
    {
     "name": "stdout",
     "output_type": "stream",
     "text": [
      "{'A': 'B', 'B': 'C', 'C': 'D', 'D': 'E'}\n",
      "10\n",
      "11\n",
      "12\n",
      "13\n",
      "14\n",
      "15\n",
      "16\n",
      "17\n",
      "18\n",
      "19\n"
     ]
    }
   ],
   "source": [
    "from itertools import count, pairwise\n",
    "print(dict(pairwise(\"ABCDE\")))\n",
    "for i in count(10):\n",
    "    if i == 20:\n",
    "        break\n",
    "    print(i)"
   ]
  },
  {
   "cell_type": "code",
   "execution_count": 6,
   "metadata": {},
   "outputs": [
    {
     "name": "stdout",
     "output_type": "stream",
     "text": [
      "0b10\n"
     ]
    }
   ],
   "source": [
    "print(bin(2))"
   ]
  },
  {
   "cell_type": "code",
   "execution_count": 6,
   "metadata": {},
   "outputs": [
    {
     "name": "stdout",
     "output_type": "stream",
     "text": [
      "[[0 0 0]\n",
      " [0 0 0]\n",
      " [0 0 0]]\n",
      "[[1 1 1]\n",
      " [1 1 1]\n",
      " [1 1 1]]\n",
      "[2 3 4 5 6 7 8 9]\n",
      "[[1 1 1]\n",
      " [1 1 1]\n",
      " [1 1 1]]\n"
     ]
    }
   ],
   "source": [
    "import numpy as np\n",
    "shape = (3, 3)\n",
    "print(np.zeros(shape, dtype=int))\n",
    "print(np.ones(shape, dtype=int))\n",
    "print(np.arange(2, 10, dtype=int))\n",
    "print(np.empty(shape, dtype=int))"
   ]
  },
  {
   "cell_type": "code",
   "execution_count": 9,
   "metadata": {},
   "outputs": [
    {
     "name": "stdout",
     "output_type": "stream",
     "text": [
      "[[1 0 0]\n",
      " [0 2 0]\n",
      " [0 0 3]]\n",
      "[[1. 0. 0.]\n",
      " [0. 1. 0.]\n",
      " [0. 0. 1.]]\n"
     ]
    }
   ],
   "source": [
    "print(np.diag([1, 2, 3]))\n",
    "print(np.eye(3))"
   ]
  },
  {
   "cell_type": "code",
   "execution_count": 11,
   "metadata": {},
   "outputs": [
    {
     "name": "stdout",
     "output_type": "stream",
     "text": [
      "数组相加：\n",
      "[[ 5  7  9]\n",
      " [11 13 15]]\n",
      "数组相加：numpy方法：\n",
      "[[ 5  7  9]\n",
      " [11 13 15]]\n",
      "数组相减:\n",
      "[[-3 -3 -3]\n",
      " [-3 -3 -3]]\n",
      "数组相减，numpy方法：\n",
      "[[-3 -3 -3]\n",
      " [-3 -3 -3]]\n",
      "数组相乘，逐元素矩阵乘法：\n",
      "[[ 4 10 18]\n",
      " [28 40 54]]\n",
      "数组相乘，numpy方法：逐元素矩阵乘法：\n",
      "[[ 4 10 18]\n",
      " [28 40 54]]\n",
      "数组相除，对应元素相除：\n",
      "[[0.25       0.4        0.5       ]\n",
      " [0.57142857 0.625      0.66666667]]\n",
      "数组相除，numpy方法：对应元素相除：\n",
      "[[0.25       0.4        0.5       ]\n",
      " [0.57142857 0.625      0.66666667]]\n"
     ]
    }
   ],
   "source": [
    "import numpy as np\n",
    "\n",
    "\n",
    "def operate_array(operate, x, y):\n",
    "    if operate == '+':\n",
    "        print('数组相加：')\n",
    "        res = x + y\n",
    "        print(res)\n",
    "        print('数组相加：numpy方法：')\n",
    "        res = np.add(x, y)\n",
    "        print(res)\n",
    "    elif operate == '-':\n",
    "        print('数组相减:')\n",
    "        res = x - y\n",
    "        print(res)\n",
    "        print('数组相减，numpy方法：')\n",
    "        res = np.subtract(x, y)\n",
    "        print(res)\n",
    "    elif operate == '*':\n",
    "        print('数组相乘，逐元素矩阵乘法：')\n",
    "        res = x * y\n",
    "        print(res)\n",
    "        print('数组相乘，numpy方法：逐元素矩阵乘法：')\n",
    "        res = np.multiply(x, y)\n",
    "        print(res)\n",
    "    elif operate == '/':\n",
    "        print('数组相除，对应元素相除：')\n",
    "        res = x / y\n",
    "        print(res)\n",
    "        print('数组相除，numpy方法：对应元素相除：')\n",
    "        res = np.divide(x, y)\n",
    "        print(res)\n",
    "\n",
    "\n",
    "if __name__ == '__main__':\n",
    "    x = np.array([[1, 2, 3], [4, 5, 6]])\n",
    "    y = np.array([[4, 5, 6], [7, 8, 9]])\n",
    "\n",
    "    operate_array('+', x, y)\n",
    "    operate_array('-', x, y)\n",
    "    operate_array('*', x, y)\n",
    "    operate_array('/', x, y)"
   ]
  },
  {
   "cell_type": "code",
   "execution_count": 12,
   "metadata": {},
   "outputs": [
    {
     "name": "stdout",
     "output_type": "stream",
     "text": [
      "输入数据: [2 5 0 6 7 6 5 3 8 2]\n",
      "求和: 44\n",
      "求平均: 4.4\n",
      "求标准差: 2.4166091947189146\n",
      "求方差: 5.840000000000001\n",
      "求最小值: 0\n",
      "求最大值: 8\n",
      "求中位数: 5.0\n",
      "找出数组中所有不同的值，并按从小打大排序： [0 2 3 5 6 7 8]\n"
     ]
    }
   ],
   "source": [
    "import numpy as np\n",
    "\n",
    "\n",
    "if __name__ == '__main__':\n",
    "    data = np.random.randint(0, 10, size=(10))\n",
    "    print('输入数据: {}'.format(data))\n",
    "\n",
    "    data_sum = np.sum(data)\n",
    "    print('求和: {}'.format(data_sum))\n",
    "\n",
    "    data_mean = np.mean(data)\n",
    "    print('求平均: {}'.format(data_mean))\n",
    "\n",
    "    data_std = np.std(data)\n",
    "    print('求标准差: {}'.format(data_std))\n",
    "\n",
    "    data_var = np.var(data)\n",
    "    print('求方差: {}'.format(data_var))\n",
    "\n",
    "    data_min = np.min(data)\n",
    "    print('求最小值: {}'.format(data_min))\n",
    "\n",
    "    data_max = np.max(data)\n",
    "    print('求最大值: {}'.format(data_max))\n",
    "\n",
    "    data_median = np.median(data)\n",
    "    print('求中位数: {}'.format(data_median))\n",
    "\n",
    "    data_unique = np.unique(data)\n",
    "    print('找出数组中所有不同的值，并按从小打大排序： {}'.format(data_unique))"
   ]
  },
  {
   "cell_type": "code",
   "execution_count": 14,
   "metadata": {},
   "outputs": [
    {
     "name": "stdout",
     "output_type": "stream",
     "text": [
      "[[5 9 5]\n",
      " [3 2 1]\n",
      " [9 9 9]]\n",
      "[[5 3 9]\n",
      " [9 2 9]\n",
      " [5 1 9]]\n",
      "[[-1.25000000e-01  5.00000000e-01  1.38888889e-02]\n",
      " [ 2.50000000e-01 -2.77555756e-17 -1.38888889e-01]\n",
      " [-1.25000000e-01 -5.00000000e-01  2.36111111e-01]]\n"
     ]
    }
   ],
   "source": [
    "# 可以通过数组转为矩阵\n",
    "# 矩阵 b :\n",
    "# <code>\n",
    "# [[3 9 4]\n",
    "#  [6 7 9]\n",
    "#  [3 5 7]]\n",
    "# </code>\n",
    "\n",
    "# b的转置矩阵为：\n",
    "# <code>\n",
    "# [[3 6 3]\n",
    "#  [9 7 5]\n",
    "#  [4 9 7]]\n",
    "# </code>\n",
    "\n",
    "# b的逆矩阵：\n",
    "# <code>\n",
    "# [[-0.04597701  0.49425287 -0.6091954 ]\n",
    "#  [ 0.17241379 -0.10344828  0.03448276]\n",
    "#  [-0.10344828 -0.13793103  0.37931034]]\n",
    "# </code>\n",
    "\n",
    "import numpy as np\n",
    "\n",
    "\n",
    "if __name__ == '__main__':\n",
    "    a = np.random.randint(0, 10, size=(3, 3))\n",
    "    matrix_b = np.matrix(a)\n",
    "    print(matrix_b)\n",
    "    print(matrix_b.T)\n",
    "    print(matrix_b.I)"
   ]
  },
  {
   "cell_type": "code",
   "execution_count": 15,
   "metadata": {},
   "outputs": [
    {
     "name": "stdout",
     "output_type": "stream",
     "text": [
      "输入的数据：[0, 1, 2, 3, 4, 5, 6, 7, 8, 9]\n",
      "随机抽样个数不能超过原始数组大小\n",
      "随机抽样结果：[1 8]\n"
     ]
    }
   ],
   "source": [
    "import numpy as np\n",
    "\n",
    "\n",
    "def random_sample(array, num):\n",
    "    if num <= len(array):\n",
    "                                            \n",
    "        return np.random.choice(array, num)\n",
    "    else:\n",
    "        return None\n",
    "\n",
    "\n",
    "if __name__ == '__main__':\n",
    "    a = [i for i in range(10)]\n",
    "    print('输入的数据：{}'.format(a))\n",
    "\n",
    "    ret = random_sample(a, 11)\n",
    "    assert ret is None\n",
    "    print('随机抽样个数不能超过原始数组大小')\n",
    "\n",
    "    ret = random_sample(a, 2)\n",
    "    assert len(ret) == 2\n",
    "    print('随机抽样结果：{}'.format(ret))"
   ]
  },
  {
   "cell_type": "code",
   "execution_count": 17,
   "metadata": {},
   "outputs": [
    {
     "name": "stdout",
     "output_type": "stream",
     "text": [
      "查看y的值: \n",
      "y[0] = 1\n",
      "y[1] = 2\n",
      "y[2] = 3\n",
      "y[3] = --\n",
      "y[4] = 5\n",
      "y的平均值: 2.75\n"
     ]
    }
   ],
   "source": [
    "import numpy as np\n",
    "\n",
    "\n",
    "def test():\n",
    "    x = np.array([1, 2, 3, -1, 5])\n",
    "    y = np.ma.masked_array(x, mask=[0, 0, 0, 1, 0])\n",
    "    print('查看y的值: ')\n",
    "    for idx, val in enumerate(y):\n",
    "        print('y[{}] = {}'.format(idx, val))\n",
    "\n",
    "    assert type(y[3]) is np.ma.core.MaskedConstant\n",
    "\n",
    "    print('y的平均值: {}'.format(np.mean(y)))\n",
    "    assert np.mean(y) == 2.75\n",
    "\n",
    "\n",
    "if __name__ == '__main__':\n",
    "    test()"
   ]
  },
  {
   "cell_type": "code",
   "execution_count": 19,
   "metadata": {},
   "outputs": [],
   "source": [
    "import numpy as np\n",
    "\n",
    "\n",
    "def create_mask_array(array_a, mask_list):\n",
    "    mask = np.zeros(len(array_a), dtype=int)\n",
    "    for i in mask_list:\n",
    "        mask[i] = 1\n",
    "\n",
    "    y = np.ma.array(array_a, mask=mask)\n",
    "    return y\n",
    "\n",
    "\n",
    "if __name__ == '__main__':\n",
    "    a = np.random.randint(0, 10, size=(10))\n",
    "    b = create_mask_array(a, [0, 1, 2, 3, 4])\n",
    "    assert np.mean(b) == np.mean(a[5:])"
   ]
  },
  {
   "cell_type": "code",
   "execution_count": 20,
   "metadata": {},
   "outputs": [],
   "source": [
    "import numpy as np\n",
    "\n",
    "\n",
    "def create_condition_mask_array(array_a, val):\n",
    "    mask = np.zeros(len(array_a), dtype=int)\n",
    "    for i in range(len(array_a)):\n",
    "        if array_a[i] >= val:\n",
    "            mask[i] = 1\n",
    "\n",
    "    y = np.ma.array(array_a, mask=mask)\n",
    "    return y\n",
    "\n",
    "\n",
    "if __name__ == '__main__':\n",
    "    a = np.random.randint(0, 10, size=(10))\n",
    "    b = create_condition_mask_array(a, 5)\n",
    "\n",
    "    na = [x for x in a if x < 5]\n",
    "    nb = [x for x in b if type(x) is not np.ma.core.MaskedConstant]\n",
    "\n",
    "    assert na == nb"
   ]
  }
 ],
 "metadata": {
  "kernelspec": {
   "display_name": "base",
   "language": "python",
   "name": "python3"
  },
  "language_info": {
   "codemirror_mode": {
    "name": "ipython",
    "version": 3
   },
   "file_extension": ".py",
   "mimetype": "text/x-python",
   "name": "python",
   "nbconvert_exporter": "python",
   "pygments_lexer": "ipython3",
   "version": "3.8.13"
  },
  "orig_nbformat": 4,
  "vscode": {
   "interpreter": {
    "hash": "88279d2366fe020547cde40dd65aa0e3aa662a6ec1f3ca12d88834876c85e1a6"
   }
  }
 },
 "nbformat": 4,
 "nbformat_minor": 2
}
