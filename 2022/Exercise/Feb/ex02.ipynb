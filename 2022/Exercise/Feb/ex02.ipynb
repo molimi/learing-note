{
 "cells": [
  {
   "attachments": {},
   "cell_type": "markdown",
   "metadata": {},
   "source": [
    "### 1 heapq"
   ]
  },
  {
   "cell_type": "code",
   "execution_count": 13,
   "metadata": {},
   "outputs": [
    {
     "name": "stdout",
     "output_type": "stream",
     "text": [
      "1\n",
      "[1, 2, 3, 5, 23, 54, 132]\n"
     ]
    }
   ],
   "source": [
    "import heapq\n",
    "\n",
    "nums = [2, 3,5, 1, 54, 23, 132]\n",
    "heap = []\n",
    "for num in nums:\n",
    "    heapq.heappush(heap, num)       # 加入堆\n",
    "\n",
    "print(heap[0])                      # 只想获取最小值而不是弹出，使用heap[0]\n",
    "print([heapq.heappop(heap) for _ in range(len(nums))])      # 堆排序结果"
   ]
  },
  {
   "cell_type": "code",
   "execution_count": 19,
   "metadata": {},
   "outputs": [
    {
     "name": "stdout",
     "output_type": "stream",
     "text": [
      "[1, 2, 3, 5, 23, 54, 132]\n",
      "[10]\n"
     ]
    }
   ],
   "source": [
    "nums = [2, 3, 5, 1, 54, 23, 132]\n",
    "heapq.heapify(nums)\n",
    "print([heapq.heappop(nums) for _ in range(len(nums))])\n",
    "nums.append(10)\n",
    "print(nums)"
   ]
  },
  {
   "cell_type": "code",
   "execution_count": null,
   "metadata": {},
   "outputs": [],
   "source": []
  },
  {
   "cell_type": "code",
   "execution_count": 22,
   "metadata": {},
   "outputs": [
    {
     "name": "stdout",
     "output_type": "stream",
     "text": [
      "[23, 2, 12, 32, 3, 5, 34, 54, 23, 132, 656, 324, 23, 54]\n",
      "[2, 3, 5, 12, 23, 23, 23, 32, 34, 54, 54, 132, 324, 656]\n"
     ]
    }
   ],
   "source": [
    "nums1 = [32, 3, 5, 34, 54, 23, 132]\n",
    "nums2 = [23, 2, 12, 656, 324, 23, 54]\n",
    "\n",
    "ans = heapq.merge(nums1, nums2)\n",
    "print(list(ans))        # [23, 2, 12, 32, 3, 5, 34, 54, 23, 132, 656, 324, 23, 54]\n",
    "nums1 = sorted(nums1)\n",
    "nums2 = sorted(nums2)\n",
    "\n",
    "res = heapq.merge(nums1, nums2)\n",
    "print(list(res))        # [2, 3, 5, 12, 23, 23, 23, 32, 34, 54, 54, 132, 324, 656]"
   ]
  },
  {
   "cell_type": "code",
   "execution_count": 10,
   "metadata": {},
   "outputs": [
    {
     "name": "stdout",
     "output_type": "stream",
     "text": [
      "[1, 3, 5, 2, 6, 8, 9, 3, 12]\n",
      "1\n",
      "3\n",
      "[-1, 2, 5, 3, 6, 8, 9, 12]\n"
     ]
    }
   ],
   "source": [
    "list1 = [1, 3, 5, 2, 6, 8, 9, 3]\n",
    "\n",
    "heapq.heappush(list1, 12)\n",
    "print(list1)\n",
    "\n",
    "heapq1 = heapq.heappop(list1)\n",
    "print(heapq1)\n",
    "\n",
    "list1.append(-1)\n",
    "heapq2 = heapq.heappop(list1)\n",
    "print(heapq2)\n",
    "print(list1)"
   ]
  },
  {
   "cell_type": "code",
   "execution_count": 15,
   "metadata": {},
   "outputs": [
    {
     "name": "stdout",
     "output_type": "stream",
     "text": [
      "2\n",
      "[12, 23, 45, 43]\n"
     ]
    }
   ],
   "source": [
    "nums = [2, 43, 45, 23, 12]\n",
    "heapq.heapify(nums)\n",
    "print(heapq.heappop(nums))\n",
    "\n",
    "print(nums)"
   ]
  },
  {
   "cell_type": "code",
   "execution_count": 16,
   "metadata": {},
   "outputs": [
    {
     "name": "stdout",
     "output_type": "stream",
     "text": [
      "[2, 3, 4, 5, 23]\n"
     ]
    }
   ],
   "source": [
    "nums = [1, 2, 4, 5, 3]\n",
    "heapq.heapify(nums)\n",
    "\n",
    "heapq.heapreplace(nums, 23)\n",
    "print([heapq.heappop(nums) for _ in range(len(nums))])"
   ]
  },
  {
   "cell_type": "code",
   "execution_count": 17,
   "metadata": {},
   "outputs": [
    {
     "name": "stdout",
     "output_type": "stream",
     "text": [
      "[200, 18, 20, 1, 10, 5]\n"
     ]
    }
   ],
   "source": [
    "nums = []\n",
    "for num in [1, 5, 20, 18, 10, 200]:\n",
    "    heapq.heappush(nums, -num)\n",
    "print(list(map(lambda x:-x, nums)))"
   ]
  },
  {
   "cell_type": "code",
   "execution_count": 21,
   "metadata": {},
   "outputs": [
    {
     "name": "stdout",
     "output_type": "stream",
     "text": [
      "[5, 10, 18, 20, 100, 200]\n",
      "[]\n"
     ]
    }
   ],
   "source": [
    "nums = [20, 5, 1, 18, 200, 10]\n",
    "heapq.heapify(nums)\n",
    "heapq.heappushpop(nums, 100)\n",
    "print([heapq.heappop(nums) for _ in range(len(nums))])      # [5, 10, 18, 20, 100, 200]\n",
    "print(nums)"
   ]
  },
  {
   "cell_type": "code",
   "execution_count": 25,
   "metadata": {},
   "outputs": [
    {
     "name": "stdout",
     "output_type": "stream",
     "text": [
      "{'n', 'a', 's'}\n",
      "nsna\n"
     ]
    }
   ],
   "source": [
    "st = \"ansn\"\n",
    "print(set(st))\n",
    "print(st[::-1])"
   ]
  },
  {
   "cell_type": "code",
   "execution_count": 33,
   "metadata": {},
   "outputs": [
    {
     "name": "stdout",
     "output_type": "stream",
     "text": [
      "11\n",
      "10\n",
      "True\n"
     ]
    }
   ],
   "source": [
    "n = 10\n",
    "n = -~n             # +1\n",
    "print(n)            # 11\n",
    "n = ~-n             # -1\n",
    "print(n)            # 10"
   ]
  },
  {
   "cell_type": "code",
   "execution_count": 34,
   "metadata": {},
   "outputs": [
    {
     "name": "stdout",
     "output_type": "stream",
     "text": [
      "True\n",
      "False\n"
     ]
    }
   ],
   "source": [
    "x, y = -1, 2\n",
    "print((x^y)<0)          # True\n",
    "x, y = 1, 2\n",
    "print((x^y)<0)          # False"
   ]
  },
  {
   "cell_type": "code",
   "execution_count": 35,
   "metadata": {},
   "outputs": [
    {
     "data": {
      "text/plain": [
       "array([[ 1.22319078, -1.49850244,  1.21268295, -2.4579291 ,  1.8448293 ,\n",
       "        -0.77284074],\n",
       "       [ 0.57395709, -0.18407656,  0.25629936, -0.28978995,  0.42072459,\n",
       "        -0.99239633],\n",
       "       [ 1.31687594, -1.16195757, -1.65477483, -0.19695368, -0.17760578,\n",
       "        -0.66222763],\n",
       "       [ 1.9253499 ,  1.41966124,  1.56094658, -0.03371532,  0.19000646,\n",
       "        -0.93934389],\n",
       "       [ 0.03768554,  0.45560503,  0.20187599, -1.332125  , -1.30952602,\n",
       "        -0.37884942],\n",
       "       [-1.50570795,  1.70595609, -0.60344891,  0.22887515, -3.08758302,\n",
       "        -0.75110605]])"
      ]
     },
     "metadata": {},
     "output_type": "display_data"
    },
    {
     "data": {
      "text/plain": [
       "array([0, 2, 1, 0, 1, 3])"
      ]
     },
     "metadata": {},
     "output_type": "display_data"
    }
   ],
   "source": [
    "from sklearn.datasets import make_classification\n",
    "\n",
    "X, y = make_classification(n_samples=6, n_classes=4, n_features=6, n_informative=5, n_redundant=1, n_clusters_per_class=1)\n",
    "display(X, y)"
   ]
  }
 ],
 "metadata": {
  "kernelspec": {
   "display_name": "base",
   "language": "python",
   "name": "python3"
  },
  "language_info": {
   "codemirror_mode": {
    "name": "ipython",
    "version": 3
   },
   "file_extension": ".py",
   "mimetype": "text/x-python",
   "name": "python",
   "nbconvert_exporter": "python",
   "pygments_lexer": "ipython3",
   "version": "3.9.12"
  },
  "orig_nbformat": 4
 },
 "nbformat": 4,
 "nbformat_minor": 2
}
