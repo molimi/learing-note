{
 "cells": [
  {
   "cell_type": "code",
   "execution_count": 4,
   "metadata": {},
   "outputs": [
    {
     "name": "stdout",
     "output_type": "stream",
     "text": [
      "[1, 3, 6, 10, 15, 21, 28]\n",
      "[1, 2, 3, 4, 5, 6]\n"
     ]
    }
   ],
   "source": [
    "list1 = [0, 1, 2, 3, 4, 5, 6, 7]\n",
    "list2 = [sum(list1[:i]) for i in range(1, 8)]\n",
    "print(list2)\n",
    "print(list1[:-1])"
   ]
  },
  {
   "cell_type": "code",
   "execution_count": null,
   "metadata": {},
   "outputs": [],
   "source": [
    "class Solution:\n",
    "    def getModifiedArray(self, length: int, updates: List[List[int]]) -> List[int]:\n",
    "        diff = [0] * (length+1)     # 末尾多个0，防止越界\n",
    "        \n",
    "        for update in updates:\n",
    "            start, end, inc = update[0], update[1], update[2]\n",
    "            diff[start] += inc\n",
    "            diff[end + 1] -= inc\n",
    "        \n",
    "        for i in range(1, length):\n",
    "            diff[i] += diff[i - 1]            # 对差分数组求前缀和便可得到原数组\n",
    "            \n",
    "        return diff[:-1]"
   ]
  },
  {
   "cell_type": "code",
   "execution_count": 6,
   "metadata": {},
   "outputs": [
    {
     "name": "stdout",
     "output_type": "stream",
     "text": [
      "1\n",
      "2\n",
      "3\n",
      "4\n",
      "5\n",
      "6\n",
      "7\n",
      "8\n",
      "9\n",
      "[1, 2, 0, 5, 6, 7, 8, 9]\n"
     ]
    }
   ],
   "source": [
    "for i in range(1,10):\n",
    "    print(i)\n",
    "list2 = [1, 2, 3, 4, 5, 6, 7, 8, 9]\n",
    "list2[2:4] = [0]\n",
    "print(list2)"
   ]
  },
  {
   "cell_type": "code",
   "execution_count": 7,
   "metadata": {},
   "outputs": [
    {
     "name": "stdout",
     "output_type": "stream",
     "text": [
      "5\n"
     ]
    }
   ],
   "source": [
    "str1 = \"assdassaaa\"\n",
    "print(str1.count('a'))"
   ]
  },
  {
   "cell_type": "code",
   "execution_count": 11,
   "metadata": {},
   "outputs": [
    {
     "name": "stdout",
     "output_type": "stream",
     "text": [
      "['b', 'ab', 'ab', 'bb', 'cb']\n"
     ]
    }
   ],
   "source": [
    "cur = ['', 'a', 'a', 'b', 'c']\n",
    "v = 'b'\n",
    "cur = [c+v for c in cur]\n",
    "print(cur)\n",
    "# {a, b}{c,{d,e}}"
   ]
  },
  {
   "cell_type": "code",
   "execution_count": 14,
   "metadata": {},
   "outputs": [
    {
     "name": "stdout",
     "output_type": "stream",
     "text": [
      "[0, 0, 3]\n"
     ]
    }
   ],
   "source": [
    "list1 = [1, 2, 3]\n",
    "list1[:2] = [0, 0]\n",
    "print(list1)"
   ]
  },
  {
   "cell_type": "code",
   "execution_count": 49,
   "metadata": {},
   "outputs": [
    {
     "name": "stdout",
     "output_type": "stream",
     "text": [
      "[4]\n"
     ]
    }
   ],
   "source": [
    "list1 = [[1, 2, 3], [4, 2, 1], [6, 4, 1]]\n",
    "print(list1[1][:1])"
   ]
  },
  {
   "cell_type": "code",
   "execution_count": 42,
   "metadata": {},
   "outputs": [
    {
     "name": "stdout",
     "output_type": "stream",
     "text": [
      "[4, 5, 6]\n"
     ]
    }
   ],
   "source": [
    "list5 = [[1, 2, 3], [4, 5, 6], [7, 8, 9]]\n",
    "print(list5[1])"
   ]
  },
  {
   "cell_type": "code",
   "execution_count": 52,
   "metadata": {},
   "outputs": [
    {
     "name": "stdout",
     "output_type": "stream",
     "text": [
      "[[1 2 3]]\n",
      "[[1]]\n",
      "(3, 3)\n"
     ]
    }
   ],
   "source": [
    "import numpy as np\n",
    "arr1 = np.array(list5)\n",
    "print(arr1[:1][:1])\n",
    "print(arr1[:1, :1])\n",
    "print(arr1.shape)"
   ]
  },
  {
   "cell_type": "code",
   "execution_count": 58,
   "metadata": {},
   "outputs": [
    {
     "name": "stdout",
     "output_type": "stream",
     "text": [
      "asddfsdhgfrjaadfgjig\n",
      "False\n",
      "True\n",
      "True\n",
      "gijgfdaaJRFGHDSFDDSA\n"
     ]
    }
   ],
   "source": [
    "str1 = \"ASDDFSDHGFRJaadfgjig\"\n",
    "print(str1.lower())\n",
    "print(str1.isdigit())\n",
    "print(str1.isalpha())\n",
    "print(str1.isalnum())\n",
    "# str1[0], str1[-1] = str1[-1], str1[0]\n",
    "print(str1[::-1])"
   ]
  },
  {
   "cell_type": "code",
   "execution_count": 62,
   "metadata": {},
   "outputs": [
    {
     "name": "stdout",
     "output_type": "stream",
     "text": [
      "3\n"
     ]
    }
   ],
   "source": [
    "list4 = [1, 2, 3, 4,  5, 6, 7, 8]\n",
    "list4[2], list4[6] = list4[6], list4[2]\n",
    "print(list4.index(4))"
   ]
  }
 ],
 "metadata": {
  "kernelspec": {
   "display_name": "base",
   "language": "python",
   "name": "python3"
  },
  "language_info": {
   "codemirror_mode": {
    "name": "ipython",
    "version": 3
   },
   "file_extension": ".py",
   "mimetype": "text/x-python",
   "name": "python",
   "nbconvert_exporter": "python",
   "pygments_lexer": "ipython3",
   "version": "3.9.12"
  },
  "orig_nbformat": 4,
  "vscode": {
   "interpreter": {
    "hash": "88279d2366fe020547cde40dd65aa0e3aa662a6ec1f3ca12d88834876c85e1a6"
   }
  }
 },
 "nbformat": 4,
 "nbformat_minor": 2
}
