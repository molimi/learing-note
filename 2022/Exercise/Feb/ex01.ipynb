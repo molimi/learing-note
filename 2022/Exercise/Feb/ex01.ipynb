{
 "cells": [
  {
   "cell_type": "code",
   "execution_count": 4,
   "metadata": {},
   "outputs": [
    {
     "name": "stdout",
     "output_type": "stream",
     "text": [
      "[1, 3, 6, 10, 15, 21, 28]\n",
      "[1, 2, 3, 4, 5, 6]\n"
     ]
    }
   ],
   "source": [
    "list1 = [0, 1, 2, 3, 4, 5, 6, 7]\n",
    "list2 = [sum(list1[:i]) for i in range(1, 8)]\n",
    "print(list2)\n",
    "print(list1[:-1])"
   ]
  },
  {
   "cell_type": "code",
   "execution_count": null,
   "metadata": {},
   "outputs": [],
   "source": [
    "class Solution:\n",
    "    def getModifiedArray(self, length: int, updates: List[List[int]]) -> List[int]:\n",
    "        diff = [0] * (length+1)     # 末尾多个0，防止越界\n",
    "        \n",
    "        for update in updates:\n",
    "            start, end, inc = update[0], update[1], update[2]\n",
    "            diff[start] += inc\n",
    "            diff[end + 1] -= inc\n",
    "        \n",
    "        for i in range(1, length):\n",
    "            diff[i] += diff[i - 1]            # 对差分数组求前缀和便可得到原数组\n",
    "            \n",
    "        return diff[:-1]"
   ]
  },
  {
   "cell_type": "code",
   "execution_count": 6,
   "metadata": {},
   "outputs": [
    {
     "name": "stdout",
     "output_type": "stream",
     "text": [
      "1\n",
      "2\n",
      "3\n",
      "4\n",
      "5\n",
      "6\n",
      "7\n",
      "8\n",
      "9\n",
      "[1, 2, 0, 5, 6, 7, 8, 9]\n"
     ]
    }
   ],
   "source": [
    "for i in range(1,10):\n",
    "    print(i)\n",
    "list2 = [1, 2, 3, 4, 5, 6, 7, 8, 9]\n",
    "list2[2:4] = [0]\n",
    "print(list2)"
   ]
  },
  {
   "cell_type": "code",
   "execution_count": 7,
   "metadata": {},
   "outputs": [
    {
     "name": "stdout",
     "output_type": "stream",
     "text": [
      "5\n"
     ]
    }
   ],
   "source": [
    "str1 = \"assdassaaa\"\n",
    "print(str1.count('a'))"
   ]
  },
  {
   "cell_type": "code",
   "execution_count": 11,
   "metadata": {},
   "outputs": [
    {
     "name": "stdout",
     "output_type": "stream",
     "text": [
      "['b', 'ab', 'ab', 'bb', 'cb']\n"
     ]
    }
   ],
   "source": [
    "cur = ['', 'a', 'a', 'b', 'c']\n",
    "v = 'b'\n",
    "cur = [c+v for c in cur]\n",
    "print(cur)\n",
    "# {a, b}{c,{d,e}}"
   ]
  },
  {
   "cell_type": "code",
   "execution_count": 14,
   "metadata": {},
   "outputs": [
    {
     "name": "stdout",
     "output_type": "stream",
     "text": [
      "[0, 0, 3]\n"
     ]
    }
   ],
   "source": [
    "list1 = [1, 2, 3]\n",
    "list1[:2] = [0, 0]\n",
    "print(list1)"
   ]
  },
  {
   "cell_type": "code",
   "execution_count": 49,
   "metadata": {},
   "outputs": [
    {
     "name": "stdout",
     "output_type": "stream",
     "text": [
      "[4]\n"
     ]
    }
   ],
   "source": [
    "list1 = [[1, 2, 3], [4, 2, 1], [6, 4, 1]]\n",
    "print(list1[1][:1])"
   ]
  },
  {
   "cell_type": "code",
   "execution_count": 42,
   "metadata": {},
   "outputs": [
    {
     "name": "stdout",
     "output_type": "stream",
     "text": [
      "[4, 5, 6]\n"
     ]
    }
   ],
   "source": [
    "list5 = [[1, 2, 3], [4, 5, 6], [7, 8, 9]]\n",
    "print(list5[1])"
   ]
  },
  {
   "cell_type": "code",
   "execution_count": 52,
   "metadata": {},
   "outputs": [
    {
     "name": "stdout",
     "output_type": "stream",
     "text": [
      "[[1 2 3]]\n",
      "[[1]]\n",
      "(3, 3)\n"
     ]
    }
   ],
   "source": [
    "import numpy as np\n",
    "arr1 = np.array(list5)\n",
    "print(arr1[:1][:1])\n",
    "print(arr1[:1, :1])\n",
    "print(arr1.shape)"
   ]
  },
  {
   "cell_type": "code",
   "execution_count": 58,
   "metadata": {},
   "outputs": [
    {
     "name": "stdout",
     "output_type": "stream",
     "text": [
      "asddfsdhgfrjaadfgjig\n",
      "False\n",
      "True\n",
      "True\n",
      "gijgfdaaJRFGHDSFDDSA\n"
     ]
    }
   ],
   "source": [
    "str1 = \"ASDDFSDHGFRJaadfgjig\"\n",
    "print(str1.lower())\n",
    "print(str1.isdigit())\n",
    "print(str1.isalpha())\n",
    "print(str1.isalnum())\n",
    "# str1[0], str1[-1] = str1[-1], str1[0]\n",
    "print(str1[::-1])"
   ]
  },
  {
   "cell_type": "code",
   "execution_count": 62,
   "metadata": {},
   "outputs": [
    {
     "name": "stdout",
     "output_type": "stream",
     "text": [
      "3\n"
     ]
    }
   ],
   "source": [
    "list4 = [1, 2, 3, 4,  5, 6, 7, 8]\n",
    "list4[2], list4[6] = list4[6], list4[2]\n",
    "print(list4.index(4))"
   ]
  },
  {
   "cell_type": "code",
   "execution_count": 67,
   "metadata": {},
   "outputs": [
    {
     "name": "stdout",
     "output_type": "stream",
     "text": [
      "[[ 1  2]\n",
      " [ 2  3]\n",
      " [ 3  4]\n",
      " [ 4  5]\n",
      " [ 5  6]\n",
      " [ 6  7]\n",
      " [ 7  8]\n",
      " [ 8  9]\n",
      " [ 9 10]]\n"
     ]
    }
   ],
   "source": [
    "import numpy as np\n",
    "\n",
    "arr1 = np.array([1, 2, 3, 4, 5, 6, 7, 8, 9]).reshape(-1, 1)\n",
    "arr2 = np.array([2, 3, 4, 5, 6, 7, 8, 9, 10]).reshape(-1, 1)\n",
    "print(np.concatenate((arr1, arr2), axis=1))"
   ]
  },
  {
   "cell_type": "code",
   "execution_count": 69,
   "metadata": {},
   "outputs": [
    {
     "name": "stdout",
     "output_type": "stream",
     "text": [
      "225\n",
      "17\n"
     ]
    }
   ],
   "source": [
    "print(sum([26,19,11,14,18,4,7,1,30,23,19,8,10,6,26,3]))\n",
    "print(225%26)"
   ]
  },
  {
   "cell_type": "code",
   "execution_count": 78,
   "metadata": {},
   "outputs": [
    {
     "name": "stdout",
     "output_type": "stream",
     "text": [
      "['1', '2', '3', 'A', 'B', 'C', 'D', 'E', 'F']\n",
      "[-1, 1, -1, 1, -1, 1, -1, -1, -1]\n",
      "True\n"
     ]
    }
   ],
   "source": [
    "list2 = ['D', '1', 'E', '2', 'F', '3', 'A', 'B', 'C']\n",
    "number_list = [1 if num.isdigit() else -1 for num in list2] \n",
    "list2.sort()\n",
    "print(list2)\n",
    "print(number_list)\n",
    "str1 = \"agsg\"\n",
    "print(str1.isalpha())"
   ]
  },
  {
   "cell_type": "code",
   "execution_count": 81,
   "metadata": {},
   "outputs": [
    {
     "name": "stdout",
     "output_type": "stream",
     "text": [
      "{1: [12]}\n"
     ]
    }
   ],
   "source": [
    "temp_dict = {}\n",
    "if 1 not in temp_dict:\n",
    "    temp_dict[1] = [12]\n",
    "else:\n",
    "    temp_dict[1].append(2)\n",
    "print(temp_dict)"
   ]
  },
  {
   "cell_type": "code",
   "execution_count": 3,
   "metadata": {},
   "outputs": [
    {
     "ename": "TypeError",
     "evalue": "'tuple' object does not support item assignment",
     "output_type": "error",
     "traceback": [
      "\u001b[1;31m---------------------------------------------------------------------------\u001b[0m",
      "\u001b[1;31mTypeError\u001b[0m                                 Traceback (most recent call last)",
      "\u001b[1;32mh:\\Markdown\\learing-note\\2022\\Exercise\\Feb\\ex01.ipynb 单元格 16\u001b[0m in \u001b[0;36m2\n\u001b[0;32m      <a href='vscode-notebook-cell:/h%3A/Markdown/learing-note/2022/Exercise/Feb/ex01.ipynb#X21sZmlsZQ%3D%3D?line=0'>1</a>\u001b[0m tup1 \u001b[39m=\u001b[39m (\u001b[39m2\u001b[39m,\u001b[39m3\u001b[39m,[\u001b[39m3\u001b[39m,\u001b[39m4\u001b[39m])\n\u001b[1;32m----> <a href='vscode-notebook-cell:/h%3A/Markdown/learing-note/2022/Exercise/Feb/ex01.ipynb#X21sZmlsZQ%3D%3D?line=1'>2</a>\u001b[0m tup1[\u001b[39m2\u001b[39;49m] \u001b[39m+\u001b[39m\u001b[39m=\u001b[39m [\u001b[39m5\u001b[39m, \u001b[39m6\u001b[39m]\n\u001b[0;32m      <a href='vscode-notebook-cell:/h%3A/Markdown/learing-note/2022/Exercise/Feb/ex01.ipynb#X21sZmlsZQ%3D%3D?line=2'>3</a>\u001b[0m \u001b[39mprint\u001b[39m(tup1)\n",
      "\u001b[1;31mTypeError\u001b[0m: 'tuple' object does not support item assignment"
     ]
    }
   ],
   "source": [
    "tup1 = (2,3,[3,4])\n",
    "tup1[2] += [5, 6]\n",
    "print(tup1)"
   ]
  },
  {
   "cell_type": "code",
   "execution_count": 6,
   "metadata": {},
   "outputs": [
    {
     "name": "stdout",
     "output_type": "stream",
     "text": [
      "10\n",
      "-1\n"
     ]
    }
   ],
   "source": [
    "kvps = {1:1, 2:2}\n",
    "thecopy = kvps\n",
    "kvps[1] = 5\n",
    "print(kvps[1]+thecopy[1])\n",
    "strs = \"1234\"\n",
    "print(strs.find('9'))"
   ]
  },
  {
   "cell_type": "code",
   "execution_count": 7,
   "metadata": {},
   "outputs": [
    {
     "name": "stdout",
     "output_type": "stream",
     "text": [
      "{'1': [3, 1, 1], '2': 3} {'1': [3, 1, 1], '2': 2} {'1': [3, 1, 1], '2': 2} {'1': [1, 1, 1], '2': 2}\n"
     ]
    }
   ],
   "source": [
    "import copy\n",
    "\n",
    "d = {'1': [1, 1, 1], '2': 2}\n",
    "copy1 = d\n",
    "copy2 = d.copy()\n",
    "copy3 = copy.copy(d)\n",
    "copy4 = copy.deepcopy(d)\n",
    "\n",
    "d['1'][0] = 3 \n",
    "d['2'] = 3  \n",
    "print(copy1, copy2, copy3, copy4)\n"
   ]
  },
  {
   "cell_type": "code",
   "execution_count": 11,
   "metadata": {},
   "outputs": [
    {
     "name": "stdout",
     "output_type": "stream",
     "text": [
      "A\n"
     ]
    }
   ],
   "source": [
    "print(chr(ord('A')))"
   ]
  },
  {
   "cell_type": "code",
   "execution_count": 13,
   "metadata": {},
   "outputs": [
    {
     "name": "stdout",
     "output_type": "stream",
     "text": [
      "False\n"
     ]
    }
   ],
   "source": [
    "str_dict = {\"asbs\": 12, \"ssdd\": 24}\n",
    "print('a' in str_dict)"
   ]
  },
  {
   "cell_type": "code",
   "execution_count": 17,
   "metadata": {},
   "outputs": [
    {
     "ename": "AttributeError",
     "evalue": "'str' object has no attribute 'remove'",
     "output_type": "error",
     "traceback": [
      "\u001b[1;31m---------------------------------------------------------------------------\u001b[0m",
      "\u001b[1;31mAttributeError\u001b[0m                            Traceback (most recent call last)",
      "\u001b[1;32mh:\\Markdown\\learing-note\\2022\\Exercise\\Feb\\ex01.ipynb 单元格 21\u001b[0m in \u001b[0;36m8\n\u001b[0;32m      <a href='vscode-notebook-cell:/h%3A/Markdown/learing-note/2022/Exercise/Feb/ex01.ipynb#X26sZmlsZQ%3D%3D?line=5'>6</a>\u001b[0m \u001b[39mfor\u001b[39;00m key, value \u001b[39min\u001b[39;00m str1_dict\u001b[39m.\u001b[39mitems():\n\u001b[0;32m      <a href='vscode-notebook-cell:/h%3A/Markdown/learing-note/2022/Exercise/Feb/ex01.ipynb#X26sZmlsZQ%3D%3D?line=6'>7</a>\u001b[0m     \u001b[39mif\u001b[39;00m value \u001b[39m==\u001b[39m min_item:\n\u001b[1;32m----> <a href='vscode-notebook-cell:/h%3A/Markdown/learing-note/2022/Exercise/Feb/ex01.ipynb#X26sZmlsZQ%3D%3D?line=7'>8</a>\u001b[0m         str1\u001b[39m.\u001b[39;49mremove(key)\n\u001b[0;32m     <a href='vscode-notebook-cell:/h%3A/Markdown/learing-note/2022/Exercise/Feb/ex01.ipynb#X26sZmlsZQ%3D%3D?line=9'>10</a>\u001b[0m \u001b[39mprint\u001b[39m(str1)\n",
      "\u001b[1;31mAttributeError\u001b[0m: 'str' object has no attribute 'remove'"
     ]
    }
   ],
   "source": [
    "from collections import Counter\n",
    "\n",
    "str1 = \"assdddbd\"\n",
    "str1_dict = Counter(str1)\n",
    "min_item = min(str1_dict.values())\n",
    "for key, value in str1_dict.items():\n",
    "    if value == min_item:\n",
    "        str1.remove(key)\n",
    "\n",
    "print(str1)"
   ]
  },
  {
   "cell_type": "code",
   "execution_count": 5,
   "metadata": {},
   "outputs": [
    {
     "name": "stdout",
     "output_type": "stream",
     "text": [
      "{1, 3}\n",
      "2\n"
     ]
    }
   ],
   "source": [
    "set1 = {1,2,3}\n",
    "set1.remove(2)\n",
    "print(set1)\n",
    "print(len(set1))"
   ]
  },
  {
   "cell_type": "code",
   "execution_count": 6,
   "metadata": {},
   "outputs": [
    {
     "name": "stdout",
     "output_type": "stream",
     "text": [
      "[[0, 0, 0, 0], [0, 0, 0, 0], [0, 0, 0, 0], [0, 0, 0, 0]]\n"
     ]
    }
   ],
   "source": [
    "ans = [[0]*4]*4\n",
    "\n",
    "print(ans)"
   ]
  },
  {
   "cell_type": "code",
   "execution_count": 8,
   "metadata": {},
   "outputs": [
    {
     "name": "stdout",
     "output_type": "stream",
     "text": [
      "3\n"
     ]
    }
   ],
   "source": [
    "print(7//2)"
   ]
  },
  {
   "cell_type": "code",
   "execution_count": 11,
   "metadata": {},
   "outputs": [
    {
     "name": "stdout",
     "output_type": "stream",
     "text": [
      "2\n"
     ]
    }
   ],
   "source": [
    "print(4 >> 1)"
   ]
  },
  {
   "cell_type": "code",
   "execution_count": 12,
   "metadata": {},
   "outputs": [
    {
     "name": "stdout",
     "output_type": "stream",
     "text": [
      "(0, 1)\n",
      "(10, 11)\n"
     ]
    }
   ],
   "source": [
    "res = (0, 1)\n",
    "print(res)\n",
    "res = (10, 11)\n",
    "print(res)"
   ]
  },
  {
   "cell_type": "code",
   "execution_count": 14,
   "metadata": {},
   "outputs": [
    {
     "name": "stdout",
     "output_type": "stream",
     "text": [
      "False\n"
     ]
    }
   ],
   "source": [
    "import math\n",
    "max_len = (0, math.inf)\n",
    "print(max_len[1] - max_len[0] < 4)"
   ]
  },
  {
   "cell_type": "code",
   "execution_count": null,
   "metadata": {},
   "outputs": [],
   "source": [
    "s1 = {1:2, 2:3, 3:4}\n",
    "s2 = {1:4, 2:5, 3:6}\n",
    "print(s1 == s2)"
   ]
  },
  {
   "cell_type": "code",
   "execution_count": 22,
   "metadata": {},
   "outputs": [
    {
     "name": "stdout",
     "output_type": "stream",
     "text": [
      "None\n"
     ]
    }
   ],
   "source": [
    "s1 = {1,2,3,4,5,6,7,8,9,10,11}"
   ]
  },
  {
   "cell_type": "code",
   "execution_count": 25,
   "metadata": {},
   "outputs": [
    {
     "name": "stdout",
     "output_type": "stream",
     "text": [
      "[[1], [2, 3, 4], 3]\n"
     ]
    }
   ],
   "source": [
    "str_dict = {'a':[1], 'b':[2,3,4], 'c':3}\n",
    "print(list(str_dict.values()))"
   ]
  },
  {
   "cell_type": "code",
   "execution_count": 27,
   "metadata": {},
   "outputs": [
    {
     "name": "stdout",
     "output_type": "stream",
     "text": [
      "1\n"
     ]
    }
   ],
   "source": [
    "lt = [1, 2,3,1,2,2,1,1,1,3,4,5,6]\n",
    "# print(lt.find(2))\n",
    "print(lt.index(2))"
   ]
  },
  {
   "cell_type": "code",
   "execution_count": 31,
   "metadata": {},
   "outputs": [
    {
     "name": "stdout",
     "output_type": "stream",
     "text": [
      "[[1, 2, 3, 7], [4, 5, 6, 7], [1, 2, 3, 8], [4, 5, 6, 8], [1, 2, 3, 9], [4, 5, 6, 9]]\n"
     ]
    }
   ],
   "source": [
    "lt1 = [[1, 2, 3], [4, 5, 6]]\n",
    "lt2 = [7, 8, 9]\n",
    "result = []\n",
    "for t2 in lt2:\n",
    "    for t1 in lt1:\n",
    "        t1 = t1 + [t2]\n",
    "        result.append(t1)\n",
    "print(result)"
   ]
  },
  {
   "cell_type": "code",
   "execution_count": 32,
   "metadata": {},
   "outputs": [
    {
     "name": "stdout",
     "output_type": "stream",
     "text": [
      "gsafd\n"
     ]
    }
   ],
   "source": [
    "s1 = \"agasfsfasd\"\n",
    "print(''.join(set(s1)))"
   ]
  },
  {
   "cell_type": "code",
   "execution_count": 37,
   "metadata": {},
   "outputs": [
    {
     "name": "stdout",
     "output_type": "stream",
     "text": [
      "{1: 2, 3: 4}\n",
      "(1, 3) (2, 4)\n",
      "(1, 2) (3, 4)\n"
     ]
    },
    {
     "ename": "TypeError",
     "evalue": "dict expected at most 1 argument, got 2",
     "output_type": "error",
     "traceback": [
      "\u001b[1;31m---------------------------------------------------------------------------\u001b[0m",
      "\u001b[1;31mTypeError\u001b[0m                                 Traceback (most recent call last)",
      "\u001b[1;32mh:\\Markdown\\learing-note\\2022\\Exercise\\Feb\\ex01.ipynb 单元格 34\u001b[0m in \u001b[0;36m9\n\u001b[0;32m      <a href='vscode-notebook-cell:/h%3A/Markdown/learing-note/2022/Exercise/Feb/ex01.ipynb#X45sZmlsZQ%3D%3D?line=6'>7</a>\u001b[0m p, q \u001b[39m=\u001b[39m \u001b[39mzip\u001b[39m(\u001b[39m*\u001b[39mlt1)\n\u001b[0;32m      <a href='vscode-notebook-cell:/h%3A/Markdown/learing-note/2022/Exercise/Feb/ex01.ipynb#X45sZmlsZQ%3D%3D?line=7'>8</a>\u001b[0m \u001b[39mprint\u001b[39m(p, q)\n\u001b[1;32m----> <a href='vscode-notebook-cell:/h%3A/Markdown/learing-note/2022/Exercise/Feb/ex01.ipynb#X45sZmlsZQ%3D%3D?line=8'>9</a>\u001b[0m dict2 \u001b[39m=\u001b[39m \u001b[39mdict\u001b[39;49m(p, q)\n\u001b[0;32m     <a href='vscode-notebook-cell:/h%3A/Markdown/learing-note/2022/Exercise/Feb/ex01.ipynb#X45sZmlsZQ%3D%3D?line=9'>10</a>\u001b[0m \u001b[39mprint\u001b[39m(dict2\u001b[39m.\u001b[39mkeys())\n",
      "\u001b[1;31mTypeError\u001b[0m: dict expected at most 1 argument, got 2"
     ]
    }
   ],
   "source": [
    "tup1 = [(1,2), (3, 4)]\n",
    "dict1 = dict(tup1)\n",
    "print(dict1)\n",
    "x, y = zip(*tup1)\n",
    "print(x, y)\n",
    "lt1 = [[1, 3], [2, 4]]\n",
    "p, q = zip(*lt1)\n",
    "print(p, q)\n",
    "# dict2 = dict(p, q)\n",
    "# print(dict2.keys())"
   ]
  },
  {
   "cell_type": "code",
   "execution_count": 39,
   "metadata": {},
   "outputs": [],
   "source": [
    "import bs4\n",
    "import requests\n",
    "import os\n",
    "req = requests.get(r\"https://leetcode.cn/problems/reverse-nodes-in-k-group/solution/k-ge-yi-zu-fan-zhuan-lian-biao-by-leetcode-solutio/\")\n",
    "req.encoding=\"utf-8\"\n",
    "bs = bs4.BeautifulSoup(req.text)\n",
    "obj = bs.find_all(\"a\",{\"class\":{\"TypeBigPics\"}})\n",
    "objHtml=[]\n",
    "objImg=[]\n",
    "for s in obj:\n",
    "    objHtml.append(s.find(\"img\"))\n",
    "for o in objHtml:\n",
    "    objImg.append(o.get(\"src\"))\n",
    "for img in objImg:\n",
    "    with open(\"G:\\\\图床\\\\12月\"+os.path.basename(img),'wb') as f:\n",
    "        f.write(requests.get(img).content)\n",
    "    print(os.path.basename(img)+\"保存成功\")"
   ]
  },
  {
   "cell_type": "code",
   "execution_count": 41,
   "metadata": {},
   "outputs": [
    {
     "name": "stdout",
     "output_type": "stream",
     "text": [
      "True\n",
      "False\n"
     ]
    }
   ],
   "source": [
    "print(not [])\n",
    "print(not [[]])"
   ]
  },
  {
   "cell_type": "code",
   "execution_count": 46,
   "metadata": {},
   "outputs": [
    {
     "name": "stdout",
     "output_type": "stream",
     "text": [
      "[('abc',), ('efg',), ('hij',), ('lmn',)]\n"
     ]
    }
   ],
   "source": [
    "from itertools import product\n",
    "res = list(product(['abc', \"efg\", \"hij\", \"lmn\"]))\n",
    "print(res)"
   ]
  },
  {
   "cell_type": "code",
   "execution_count": 4,
   "metadata": {},
   "outputs": [
    {
     "name": "stdout",
     "output_type": "stream",
     "text": [
      "2\n"
     ]
    },
    {
     "ename": "TypeError",
     "evalue": "int() can't convert non-string with explicit base",
     "output_type": "error",
     "traceback": [
      "\u001b[1;31m---------------------------------------------------------------------------\u001b[0m",
      "\u001b[1;31mTypeError\u001b[0m                                 Traceback (most recent call last)",
      "\u001b[1;32mh:\\Markdown\\learing-note\\2022\\Exercise\\Feb\\ex01.ipynb 单元格 38\u001b[0m in \u001b[0;36m2\n\u001b[0;32m      <a href='vscode-notebook-cell:/h%3A/Markdown/learing-note/2022/Exercise/Feb/ex01.ipynb#X52sZmlsZQ%3D%3D?line=0'>1</a>\u001b[0m \u001b[39mprint\u001b[39m(\u001b[39m4\u001b[39m \u001b[39m>>\u001b[39m \u001b[39m1\u001b[39m)\n\u001b[1;32m----> <a href='vscode-notebook-cell:/h%3A/Markdown/learing-note/2022/Exercise/Feb/ex01.ipynb#X52sZmlsZQ%3D%3D?line=1'>2</a>\u001b[0m \u001b[39mprint\u001b[39m(\u001b[39mint\u001b[39;49m(\u001b[39m10\u001b[39;49m, \u001b[39m2\u001b[39;49m))\n",
      "\u001b[1;31mTypeError\u001b[0m: int() can't convert non-string with explicit base"
     ]
    }
   ],
   "source": [
    "print(4 >> 1)\n",
    "print(int(10, 2))"
   ]
  },
  {
   "cell_type": "code",
   "execution_count": null,
   "metadata": {},
   "outputs": [],
   "source": [
    "class Solution:\n",
    "    def sortedSquares(self, nums: List[int]) -> List[int]:\n",
    "        \"\"\"先平方后排序，每利用已排序的先验信息，最大值必定在两端出现\"\"\"\n",
    "        length = len(nums)\n",
    "        i, j = 0, length-1\n",
    "        result = []\n",
    "        while i <= j:\n",
    "            if nums[i] ** 2 < nums[j] ** 2:\n",
    "                result.append(nums[j] ** 2)\n",
    "                j -= 1\n",
    "            else:\n",
    "                result.append(nums[i] ** 2)\n",
    "                i += 1\n",
    "        return result[::-1]"
   ]
  },
  {
   "cell_type": "code",
   "execution_count": 7,
   "metadata": {},
   "outputs": [
    {
     "name": "stdout",
     "output_type": "stream",
     "text": [
      "['d']\n"
     ]
    }
   ],
   "source": [
    "str1 = \"asdd\"\n",
    "result = []\n",
    "result.append(str1[-1])\n",
    "print(result)"
   ]
  },
  {
   "cell_type": "code",
   "execution_count": 9,
   "metadata": {},
   "outputs": [
    {
     "name": "stdout",
     "output_type": "stream",
     "text": [
      "[[1, 1, 1, 1]]\n",
      "[[2], [2], [2], [2]]\n",
      "1001\n"
     ]
    }
   ],
   "source": [
    "print([[1]*4])\n",
    "print([[2] for _ in range(4)])\n",
    "print(7*11*13)"
   ]
  }
 ],
 "metadata": {
  "kernelspec": {
   "display_name": "base",
   "language": "python",
   "name": "python3"
  },
  "language_info": {
   "codemirror_mode": {
    "name": "ipython",
    "version": 3
   },
   "file_extension": ".py",
   "mimetype": "text/x-python",
   "name": "python",
   "nbconvert_exporter": "python",
   "pygments_lexer": "ipython3",
   "version": "3.9.12"
  },
  "orig_nbformat": 4,
  "vscode": {
   "interpreter": {
    "hash": "88279d2366fe020547cde40dd65aa0e3aa662a6ec1f3ca12d88834876c85e1a6"
   }
  }
 },
 "nbformat": 4,
 "nbformat_minor": 2
}
